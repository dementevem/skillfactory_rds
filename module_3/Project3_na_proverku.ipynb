{
 "cells": [
  {
   "cell_type": "code",
   "execution_count": 2,
   "metadata": {},
   "outputs": [],
   "source": [
    "import pandas as pd\n",
    "import numpy as np\n",
    "from datetime import datetime\n",
    "import matplotlib.pyplot as plt\n",
    "import seaborn as sns"
   ]
  },
  {
   "cell_type": "code",
   "execution_count": 31,
   "metadata": {},
   "outputs": [
    {
     "name": "stdout",
     "output_type": "stream",
     "text": [
      "<class 'pandas.core.frame.DataFrame'>\n",
      "RangeIndex: 40000 entries, 0 to 39999\n",
      "Data columns (total 10 columns):\n",
      " #   Column             Non-Null Count  Dtype  \n",
      "---  ------             --------------  -----  \n",
      " 0   Restaurant_id      40000 non-null  object \n",
      " 1   City               40000 non-null  object \n",
      " 2   Cuisine Style      30717 non-null  object \n",
      " 3   Ranking            40000 non-null  float64\n",
      " 4   Rating             40000 non-null  float64\n",
      " 5   Price Range        26114 non-null  object \n",
      " 6   Number of Reviews  37457 non-null  float64\n",
      " 7   Reviews            40000 non-null  object \n",
      " 8   URL_TA             40000 non-null  object \n",
      " 9   ID_TA              40000 non-null  object \n",
      "dtypes: float64(3), object(7)\n",
      "memory usage: 3.1+ MB\n"
     ]
    }
   ],
   "source": [
    "# Загрузим наш датасет:\n",
    "df = pd.read_csv('main_task.csv')\n",
    "# Для начала посмотрим на наши данные:\n",
    "df.info()"
   ]
  },
  {
   "cell_type": "markdown",
   "metadata": {},
   "source": [
    "Видно, что в нашем датасете всего 10 столбцов, из которых 3 числовых и 7 текстовых. Встречаются пропущенные значения в столбцах Cuisine Style, Price Range и Number of Reviews. Чтобы наглядно оценить количество пропущенных значений, давайте посторим диаграмму."
   ]
  },
  {
   "cell_type": "code",
   "execution_count": 32,
   "metadata": {},
   "outputs": [
    {
     "data": {
      "text/plain": [
       "<matplotlib.axes._subplots.AxesSubplot at 0x7f9d0e7676a0>"
      ]
     },
     "execution_count": 32,
     "metadata": {},
     "output_type": "execute_result"
    },
    {
     "data": {
      "image/png": "[encoded data removed]",
      "text/plain": [
       "<Figure size 432x288 with 1 Axes>"
      ]
     },
     "metadata": {
      "needs_background": "light"
     },
     "output_type": "display_data"
    }
   ],
   "source": [
    "a = 40000 - df.isna().sum()\n",
    "a.plot(kind = 'barh', colormap = 'coolwarm', title = 'Распределение пустых значений')"
   ]
  },
  {
   "cell_type": "markdown",
   "metadata": {},
   "source": [
    "На диаграмме хорошо видно, что наибольшее количество пропусков в столбце Price Range. На втором месте идет столбец Cuisine Style. На третьем - Numbers of Reviews. Далее попробуем поработать с этими пропусками, но начнем с анализа столбцов по порядку их расположения. Возможно найдем, что-то интересное."
   ]
  },
  {
   "cell_type": "code",
   "execution_count": 33,
   "metadata": {},
   "outputs": [
    {
     "data": {
      "text/html": [
       "<div>\n",
       "<style scoped>\n",
       "    .dataframe tbody tr th:only-of-type {\n",
       "        vertical-align: middle;\n",
       "    }\n",
       "\n",
       "    .dataframe tbody tr th {\n",
       "        vertical-align: top;\n",
       "    }\n",
       "\n",
       "    .dataframe thead th {\n",
       "        text-align: right;\n",
       "    }\n",
       "</style>\n",
       "<table border=\"1\" class=\"dataframe\">\n",
       "  <thead>\n",
       "    <tr style=\"text-align: right;\">\n",
       "      <th></th>\n",
       "      <th>Restaurant_id</th>\n",
       "      <th>City</th>\n",
       "      <th>Cuisine Style</th>\n",
       "      <th>Ranking</th>\n",
       "      <th>Rating</th>\n",
       "      <th>Price Range</th>\n",
       "      <th>Number of Reviews</th>\n",
       "      <th>Reviews</th>\n",
       "      <th>URL_TA</th>\n",
       "      <th>ID_TA</th>\n",
       "    </tr>\n",
       "  </thead>\n",
       "  <tbody>\n",
       "    <tr>\n",
       "      <th>0</th>\n",
       "      <td>id_5569</td>\n",
       "      <td>Paris</td>\n",
       "      <td>['European', 'French', 'International']</td>\n",
       "      <td>5570.0</td>\n",
       "      <td>3.5</td>\n",
       "      <td>$$ - $$$</td>\n",
       "      <td>194.0</td>\n",
       "      <td>[['Good food at your doorstep', 'A good hotel ...</td>\n",
       "      <td>/Restaurant_Review-g187147-d1912643-Reviews-R_...</td>\n",
       "      <td>d1912643</td>\n",
       "    </tr>\n",
       "    <tr>\n",
       "      <th>1</th>\n",
       "      <td>id_1535</td>\n",
       "      <td>Stockholm</td>\n",
       "      <td>NaN</td>\n",
       "      <td>1537.0</td>\n",
       "      <td>4.0</td>\n",
       "      <td>NaN</td>\n",
       "      <td>10.0</td>\n",
       "      <td>[['Unique cuisine', 'Delicious Nepalese food']...</td>\n",
       "      <td>/Restaurant_Review-g189852-d7992032-Reviews-Bu...</td>\n",
       "      <td>d7992032</td>\n",
       "    </tr>\n",
       "    <tr>\n",
       "      <th>2</th>\n",
       "      <td>id_352</td>\n",
       "      <td>London</td>\n",
       "      <td>['Japanese', 'Sushi', 'Asian', 'Grill', 'Veget...</td>\n",
       "      <td>353.0</td>\n",
       "      <td>4.5</td>\n",
       "      <td>$$$$</td>\n",
       "      <td>688.0</td>\n",
       "      <td>[['Catch up with friends', 'Not exceptional'],...</td>\n",
       "      <td>/Restaurant_Review-g186338-d8632781-Reviews-RO...</td>\n",
       "      <td>d8632781</td>\n",
       "    </tr>\n",
       "    <tr>\n",
       "      <th>3</th>\n",
       "      <td>id_3456</td>\n",
       "      <td>Berlin</td>\n",
       "      <td>NaN</td>\n",
       "      <td>3458.0</td>\n",
       "      <td>5.0</td>\n",
       "      <td>NaN</td>\n",
       "      <td>3.0</td>\n",
       "      <td>[[], []]</td>\n",
       "      <td>/Restaurant_Review-g187323-d1358776-Reviews-Es...</td>\n",
       "      <td>d1358776</td>\n",
       "    </tr>\n",
       "    <tr>\n",
       "      <th>4</th>\n",
       "      <td>id_615</td>\n",
       "      <td>Munich</td>\n",
       "      <td>['German', 'Central European', 'Vegetarian Fri...</td>\n",
       "      <td>621.0</td>\n",
       "      <td>4.0</td>\n",
       "      <td>$$ - $$$</td>\n",
       "      <td>84.0</td>\n",
       "      <td>[['Best place to try a Bavarian food', 'Nice b...</td>\n",
       "      <td>/Restaurant_Review-g187309-d6864963-Reviews-Au...</td>\n",
       "      <td>d6864963</td>\n",
       "    </tr>\n",
       "  </tbody>\n",
       "</table>\n",
       "</div>"
      ],
      "text/plain": [
       "  Restaurant_id       City                                      Cuisine Style  \\\n",
       "0       id_5569      Paris            ['European', 'French', 'International']   \n",
       "1       id_1535  Stockholm                                                NaN   \n",
       "2        id_352     London  ['Japanese', 'Sushi', 'Asian', 'Grill', 'Veget...   \n",
       "3       id_3456     Berlin                                                NaN   \n",
       "4        id_615     Munich  ['German', 'Central European', 'Vegetarian Fri...   \n",
       "\n",
       "   Ranking  Rating Price Range  Number of Reviews  \\\n",
       "0   5570.0     3.5    $$ - $$$              194.0   \n",
       "1   1537.0     4.0         NaN               10.0   \n",
       "2    353.0     4.5        $$$$              688.0   \n",
       "3   3458.0     5.0         NaN                3.0   \n",
       "4    621.0     4.0    $$ - $$$               84.0   \n",
       "\n",
       "                                             Reviews  \\\n",
       "0  [['Good food at your doorstep', 'A good hotel ...   \n",
       "1  [['Unique cuisine', 'Delicious Nepalese food']...   \n",
       "2  [['Catch up with friends', 'Not exceptional'],...   \n",
       "3                                           [[], []]   \n",
       "4  [['Best place to try a Bavarian food', 'Nice b...   \n",
       "\n",
       "                                              URL_TA     ID_TA  \n",
       "0  /Restaurant_Review-g187147-d1912643-Reviews-R_...  d1912643  \n",
       "1  /Restaurant_Review-g189852-d7992032-Reviews-Bu...  d7992032  \n",
       "2  /Restaurant_Review-g186338-d8632781-Reviews-RO...  d8632781  \n",
       "3  /Restaurant_Review-g187323-d1358776-Reviews-Es...  d1358776  \n",
       "4  /Restaurant_Review-g187309-d6864963-Reviews-Au...  d6864963  "
      ]
     },
     "execution_count": 33,
     "metadata": {},
     "output_type": "execute_result"
    }
   ],
   "source": [
    "df.head(5)"
   ]
  },
  {
   "cell_type": "markdown",
   "metadata": {},
   "source": [
    "## 1. Проанализируем столбец Restaurant_id"
   ]
  },
  {
   "cell_type": "markdown",
   "metadata": {},
   "source": [
    "Пропусков в этом столбце нет, но на всякий случай проверим на повторяющиеся значения."
   ]
  },
  {
   "cell_type": "code",
   "execution_count": 34,
   "metadata": {},
   "outputs": [
    {
     "data": {
      "text/plain": [
       "id_436    18\n",
       "id_871    18\n",
       "id_227    18\n",
       "id_633    18\n",
       "id_321    17\n",
       "Name: Restaurant_id, dtype: int64"
      ]
     },
     "execution_count": 34,
     "metadata": {},
     "output_type": "execute_result"
    }
   ],
   "source": [
    "df.Restaurant_id.value_counts().head(5)"
   ]
  },
  {
   "cell_type": "markdown",
   "metadata": {},
   "source": [
    "В этом столбце имеются повторяющиеся идентификаторы ресторанов. Скорее всего это сетевые рестораны. Наверное, стоит создать новый признак rest_chain и присвоить сетевым ресторанам идентификатор 1, а несетевым - 0."
   ]
  },
  {
   "cell_type": "code",
   "execution_count": 35,
   "metadata": {},
   "outputs": [
    {
     "data": {
      "text/plain": [
       "1.0    35295\n",
       "0.0     4705\n",
       "Name: rest_chain, dtype: int64"
      ]
     },
     "execution_count": 35,
     "metadata": {},
     "output_type": "execute_result"
    }
   ],
   "source": [
    "# Создадим список с ресторанами, у которых больше одного заведения:\n",
    "rest_chain = list(df.Restaurant_id.value_counts()[df.Restaurant_id.value_counts() > 1].index)\n",
    "# Добавим новый столбец в наш датафрейм:\n",
    "df['rest_chain'] = df[df.Restaurant_id.isin(rest_chain)].Restaurant_id.apply(lambda x: 1)\n",
    "# Присвоим ноль в этом столбце не сетевым ресторанам:\n",
    "df['rest_chain'].fillna(0, inplace=True)\n",
    "# Посмотрим сколько у нас сетевых и не сетевых рестранов:\n",
    "df.rest_chain.value_counts()"
   ]
  },
  {
   "cell_type": "markdown",
   "metadata": {},
   "source": [
    "Сетевых ресторанов оказалось значительно больше. Возможно, что сетевые рестораны больше заинтересованы во включении себя базу данных."
   ]
  },
  {
   "cell_type": "markdown",
   "metadata": {},
   "source": [
    "## 2. Проанализируем столбец City"
   ]
  },
  {
   "cell_type": "markdown",
   "metadata": {},
   "source": [
    "Прпусков в данном столбце нет. Посмотрим на распределение ресторанов по городам."
   ]
  },
  {
   "cell_type": "code",
   "execution_count": 36,
   "metadata": {},
   "outputs": [
    {
     "data": {
      "image/png": "[encoded data removed]",
      "text/plain": [
       "<Figure size 576x288 with 1 Axes>"
      ]
     },
     "metadata": {
      "needs_background": "light"
     },
     "output_type": "display_data"
    }
   ],
   "source": [
    "plt.figure(figsize=(8,4))\n",
    "df.City.value_counts(ascending=False).plot(kind='bar');"
   ]
  },
  {
   "cell_type": "markdown",
   "metadata": {},
   "source": [
    "Больше всего ресторанов в Париже и Лондоне. Потом добавим сюда датасет с информацией по городам и посмотрим, что произойдет. Может парочку признаков удасться оттуда вытащить.\n",
    "Еще можно создать признак города. Всего 31 город, можно каждому городу присвоить пятибитное значение от 00000 до 11111."
   ]
  },
  {
   "cell_type": "code",
   "execution_count": 37,
   "metadata": {},
   "outputs": [],
   "source": [
    "city_dict = {'London': 11111,\n",
    "              'Paris': 11110,\n",
    "              'Madrid': 11101,\n",
    "              'Barcelona': 11100,\n",
    "              'Berlin': 11011,\n",
    "              'Milan': 11010,\n",
    "              'Rome': 11001,\n",
    "              'Prague': 11000,\n",
    "              'Lisbon': 11101,\n",
    "              'Vienna': 10111,\n",
    "              'Amsterdam': 10110,\n",
    "              'Brussels': 10101,\n",
    "              'Hamburg': 10100,\n",
    "              'Munich': 10011,\n",
    "              'Lyon': 10010,\n",
    "              'Stockholm': 10001,\n",
    "              'Budapest': 10000,\n",
    "              'Warsaw': 1111,\n",
    "              'Dublin': 1110,\n",
    "              'Copenhagen': 1101,\n",
    "              'Athens': 1100,\n",
    "              'Edinburgh': 1011,\n",
    "              'Zurich': 1010,\n",
    "              'Oporto': 1001,\n",
    "              'Geneva': 1000,\n",
    "              'Krakow': 111,\n",
    "              'Oslo': 110,\n",
    "              'Helsinki': 101,\n",
    "              'Bratislava': 100,\n",
    "              'Luxembourg': 11,\n",
    "              'Ljubljana': 10,\n",
    "             }\n",
    "df['city_id'] = df['City'].map(city_dict)"
   ]
  },
  {
   "cell_type": "markdown",
   "metadata": {},
   "source": [
    "## 3. Проанализируем столбец Cuisine Style"
   ]
  },
  {
   "cell_type": "markdown",
   "metadata": {},
   "source": [
    "Пропусков тут довольно много. Как лучше заполнить эти пропуски? Сначала посмотрим сколько и различных кухонь представлено. Учитываем, что у одного ресторана может быть сразу несколько кухонь."
   ]
  },
  {
   "cell_type": "code",
   "execution_count": 38,
   "metadata": {},
   "outputs": [],
   "source": [
    "# Создадим признак отсуствия информации о кухне:\n",
    "df['Cuisine Style_NAN'] = df['Cuisine Style'].isna().astype('uint8')"
   ]
  },
  {
   "cell_type": "code",
   "execution_count": 39,
   "metadata": {},
   "outputs": [
    {
     "data": {
      "text/plain": [
       "Vegetarian Friendly    11189\n",
       "European               10060\n",
       "Other                   9283\n",
       "Mediterranean           6277\n",
       "Italian                 5964\n",
       "                       ...  \n",
       "Xinjiang                   1\n",
       "Yunnan                     1\n",
       "Burmese                    1\n",
       "Salvadoran                 1\n",
       "Latvian                    1\n",
       "Name: Cuisine Style, Length: 126, dtype: int64"
      ]
     },
     "execution_count": 39,
     "metadata": {},
     "output_type": "execute_result"
    }
   ],
   "source": [
    "# Пропуски заполним значением Other\n",
    "df['Cuisine Style'].fillna(\"['Other']\",inplace=True)\n",
    "# Превратим значения в столбце в списки:\n",
    "df['Cuisine Style'] = df['Cuisine Style'].apply(lambda x: eval(x))\n",
    "# Найдем уникальные значения:\n",
    "s = df['Cuisine Style'].explode()\n",
    "pd.Series(s).value_counts()"
   ]
  },
  {
   "cell_type": "markdown",
   "metadata": {},
   "source": [
    "Без учета пропусков, которые заполнены Other, имеем 125 разных кухонь. Самое большое количество ресторанов с кухнями Vegetarian Friendly и European. Возможно, стоит проанализировать в каких ресторанах чаще встречается European или Vegetarian Friendly и затем найти признак, по которому их можно будет распределить вместо признака Other. Также можно этим ресторанам проставить европейскую кухню и вегетарианскую - два самых частых значения.\n",
    "Какой числовой признак можно выделить из этого столбика? Например, количество кухонь в одном ресторане."
   ]
  },
  {
   "cell_type": "code",
   "execution_count": 40,
   "metadata": {},
   "outputs": [],
   "source": [
    "df['cuisine_count'] = df['Cuisine Style'].apply(lambda x: len(x))"
   ]
  },
  {
   "cell_type": "markdown",
   "metadata": {},
   "source": [
    "## 4. Проанализируем столбец Ranking"
   ]
  },
  {
   "cell_type": "markdown",
   "metadata": {},
   "source": [
    "Место, которое занимает данный ресторан среди всех ресторанов своего города. Будем проверять, когда загрузим информацию по городам."
   ]
  },
  {
   "cell_type": "markdown",
   "metadata": {},
   "source": [
    "## 5. Проанализируем столбец Rating"
   ]
  },
  {
   "cell_type": "markdown",
   "metadata": {},
   "source": [
    "Рейтинг ресторана по данным TripAdvisor (именно это значение должна будет предсказывать модель). С этим признаком ничего не нужно делать."
   ]
  },
  {
   "cell_type": "markdown",
   "metadata": {},
   "source": [
    "## 6. Проанализируем столбец Price Range"
   ]
  },
  {
   "cell_type": "code",
   "execution_count": 41,
   "metadata": {},
   "outputs": [],
   "source": [
    "# Присвоим новому признаку значение отсутствия информации о ценовом диапазоне:\n",
    "df['Price Range_NAN'] = df['Price Range'].isna().astype('uint8')"
   ]
  },
  {
   "cell_type": "code",
   "execution_count": 42,
   "metadata": {},
   "outputs": [],
   "source": [
    "# Присвоим отсутствующим значениям средний ценовой диапазон:\n",
    "df['Price Range'].fillna('$$ - $$$', inplace=True)"
   ]
  },
  {
   "cell_type": "code",
   "execution_count": 43,
   "metadata": {},
   "outputs": [],
   "source": [
    "# Создадим признак ценового диапазона:\n",
    "price_dict = {'$': 1,\n",
    "              '$$ - $$$': 2,\n",
    "              '$$$$': 3,\n",
    "             }\n",
    "df['Price Range'] = df['Price Range'].map(price_dict)"
   ]
  },
  {
   "cell_type": "markdown",
   "metadata": {},
   "source": [
    "## 7. Проанализируем столбец Number of Reviews"
   ]
  },
  {
   "cell_type": "code",
   "execution_count": 44,
   "metadata": {},
   "outputs": [],
   "source": [
    "# Создадим признак отсутствия отзывов\n",
    "df['Number of Reviews_NAN'] = df['Number of Reviews'].isna().astype('uint8')"
   ]
  },
  {
   "cell_type": "markdown",
   "metadata": {},
   "source": [
    "## 8. Проанализируем столбец Reviews"
   ]
  },
  {
   "cell_type": "code",
   "execution_count": 45,
   "metadata": {},
   "outputs": [],
   "source": [
    "# Когда был оставлен самый свежий отзыв?\n",
    "df['Reviews'] = df.Reviews.dropna().apply(lambda x: eval(x.replace('nan', '').replace('[,', \"['',\")))\n",
    "df['Reviews'] = df.Reviews.dropna().apply(lambda x: np.nan if len(x[0]) == 0 & len(x[1]) == 0 else x)\n",
    "\n",
    "# Создадим новые признаки, date и date_1, date_2\n",
    "df['date'] = df['Reviews'].dropna().apply(lambda x: x[1]) # Присвоили второе значение\n",
    "\n",
    "# Если в date имеется два значения, то присваивается второе значение, или никакое.\n",
    "df['date_1'] = df['date'].dropna().apply(lambda x: x[1] if len(x) == 2 else np.nan)\n",
    "# Если в date значений больше нуля, то присваивается первое значение, или никакое.\n",
    "df['date_2'] = df['date'].dropna().apply(lambda x: x[0] if len(x) > 0 else np.nan)\n",
    "\n",
    "# Найдем количество дней между отзывами.\n",
    "df['date_1'] = pd.to_datetime(df['date_1'])\n",
    "df['date_2'] = pd.to_datetime(df['date_2'])\n",
    "df['review_days'] = abs(df['date_2'] - df['date_1']).dt.days"
   ]
  },
  {
   "cell_type": "markdown",
   "metadata": {},
   "source": [
    "# Тестируем модель"
   ]
  },
  {
   "cell_type": "code",
   "execution_count": 46,
   "metadata": {},
   "outputs": [
    {
     "name": "stdout",
     "output_type": "stream",
     "text": [
      "<class 'pandas.core.frame.DataFrame'>\n",
      "RangeIndex: 40000 entries, 0 to 39999\n",
      "Data columns (total 9 columns):\n",
      " #   Column                 Non-Null Count  Dtype  \n",
      "---  ------                 --------------  -----  \n",
      " 0   Ranking                40000 non-null  float64\n",
      " 1   Number of Reviews      40000 non-null  float64\n",
      " 2   rest_chain             40000 non-null  float64\n",
      " 3   city_id                40000 non-null  int64  \n",
      " 4   Cuisine Style_NAN      40000 non-null  uint8  \n",
      " 5   cuisine_count          40000 non-null  int64  \n",
      " 6   Price Range_NAN        40000 non-null  uint8  \n",
      " 7   Number of Reviews_NAN  40000 non-null  uint8  \n",
      " 8   review_days            40000 non-null  float64\n",
      "dtypes: float64(4), int64(2), uint8(3)\n",
      "memory usage: 1.9 MB\n"
     ]
    }
   ],
   "source": [
    "# Разбиваем датафрейм на части, необходимые для обучения и тестирования модели  \n",
    "# Х - данные с информацией о ресторанах, у - целевая переменная (рейтинги ресторанов)\n",
    "# Удалим столбцы типа object (попросили в условии модуля, так, для примера)\n",
    "# Потому что машинное обучение не работает с object\n",
    "X = df.drop(['Restaurant_id','City','Cuisine Style', 'Price Range', 'Reviews', 'URL_TA', 'ID_TA' ,'Rating','date', 'date_1', 'date_2'], axis = 1)  \n",
    "y = df['Rating']\n",
    "# Также заполним пропущенные значения нулями:\n",
    "X = X.fillna(0)\n",
    "X.info()"
   ]
  },
  {
   "cell_type": "code",
   "execution_count": 47,
   "metadata": {},
   "outputs": [
    {
     "data": {
      "text/plain": [
       "RandomForestRegressor()"
      ]
     },
     "execution_count": 47,
     "metadata": {},
     "output_type": "execute_result"
    }
   ],
   "source": [
    "# Загружаем специальный инструмент для разбивки:  \n",
    "from sklearn.model_selection import train_test_split\n",
    "\n",
    "# Наборы данных с меткой \"train\" будут использоваться для обучения модели, \"test\" - для тестирования.  \n",
    "# Для тестирования мы будем использовать 25% от исходного датасета.  \n",
    "X_train, X_test, y_train, y_test = train_test_split(X, y, test_size=0.25)\n",
    "\n",
    "# Импортируем необходимые библиотеки:  \n",
    "from sklearn.ensemble import RandomForestRegressor # инструмент для создания и обучения модели  \n",
    "from sklearn import metrics # инструменты для оценки точности модели \n",
    "\n",
    "# Создаём модель  \n",
    "regr = RandomForestRegressor(n_estimators=100)\n",
    "\n",
    "# Обучаем модель на тестовом наборе данных  \n",
    "regr.fit(X_train, y_train) "
   ]
  },
  {
   "cell_type": "code",
   "execution_count": 48,
   "metadata": {},
   "outputs": [
    {
     "data": {
      "text/plain": [
       "array([3.87, 3.28, 4.46, ..., 5.  , 5.  , 4.  ])"
      ]
     },
     "execution_count": 48,
     "metadata": {},
     "output_type": "execute_result"
    }
   ],
   "source": [
    "# Используем обученную модель для предсказания рейтинга ресторанов в тестовой выборке.  \n",
    "# Предсказанные значения записываем в переменную y_pred  \n",
    "y_pred = regr.predict(X_test)\n",
    "y_pred"
   ]
  },
  {
   "cell_type": "code",
   "execution_count": 49,
   "metadata": {},
   "outputs": [
    {
     "name": "stdout",
     "output_type": "stream",
     "text": [
      "MAE: 0.2206125\n"
     ]
    }
   ],
   "source": [
    "# Сравниваем предсказанные значения (y_pred) с реальными (y_test), и смотрим насколько они в среднем отличаются  \n",
    "# Метрика называется Mean Absolute Error (MAE) и показывает среднее отклонение предсказанных значений\n",
    "# от фактических.  \n",
    "print('MAE:', metrics.mean_absolute_error(y_test, y_pred)) "
   ]
  },
  {
   "cell_type": "code",
   "execution_count": null,
   "metadata": {},
   "outputs": [],
   "source": []
  }
 ],
 "metadata": {
  "kernelspec": {
   "display_name": "Python 3",
   "language": "python",
   "name": "python3"
  },
  "language_info": {
   "codemirror_mode": {
    "name": "ipython",
    "version": 3
   },
   "file_extension": ".py",
   "mimetype": "text/x-python",
   "name": "python",
   "nbconvert_exporter": "python",
   "pygments_lexer": "ipython3",
   "version": "3.8.3"
  }
 },
 "nbformat": 4,
 "nbformat_minor": 4
}
