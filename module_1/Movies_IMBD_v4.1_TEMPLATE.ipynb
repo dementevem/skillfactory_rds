{
 "cells": [
  {
   "cell_type": "code",
   "execution_count": 68,
   "metadata": {
    "_cell_guid": "b1076dfc-b9ad-4769-8c92-a6c4dae69d19",
    "_uuid": "8f2839f25d086af736a60e9eeb907d3b93b6e0e5",
    "colab": {},
    "colab_type": "code",
    "id": "U2D2gTdJVp90"
   },
   "outputs": [],
   "source": [
    "import numpy as np\n",
    "import pandas as pd\n",
    "import seaborn as sns\n",
    "import matplotlib.pyplot as plt\n",
    "from collections import Counter\n",
    "import re"
   ]
  },
  {
   "cell_type": "code",
   "execution_count": 69,
   "metadata": {
    "_cell_guid": "79c7e3d0-c299-4dcb-8224-4455121ee9b0",
    "_uuid": "d629ff2d2480ee46fbb7e2d37f6b5fab8052498a",
    "colab": {},
    "colab_type": "code",
    "id": "oyGfxL3eVp9-"
   },
   "outputs": [
    {
     "data": {
      "text/html": [
       "<div>\n",
       "<style scoped>\n",
       "    .dataframe tbody tr th:only-of-type {\n",
       "        vertical-align: middle;\n",
       "    }\n",
       "\n",
       "    .dataframe tbody tr th {\n",
       "        vertical-align: top;\n",
       "    }\n",
       "\n",
       "    .dataframe thead th {\n",
       "        text-align: right;\n",
       "    }\n",
       "</style>\n",
       "<table border=\"1\" class=\"dataframe\">\n",
       "  <thead>\n",
       "    <tr style=\"text-align: right;\">\n",
       "      <th></th>\n",
       "      <th>imdb_id</th>\n",
       "      <th>budget</th>\n",
       "      <th>revenue</th>\n",
       "      <th>original_title</th>\n",
       "      <th>cast</th>\n",
       "      <th>director</th>\n",
       "      <th>tagline</th>\n",
       "      <th>overview</th>\n",
       "      <th>runtime</th>\n",
       "      <th>genres</th>\n",
       "      <th>production_companies</th>\n",
       "      <th>release_date</th>\n",
       "      <th>vote_average</th>\n",
       "      <th>release_year</th>\n",
       "    </tr>\n",
       "  </thead>\n",
       "  <tbody>\n",
       "    <tr>\n",
       "      <th>543</th>\n",
       "      <td>tt0209475</td>\n",
       "      <td>35000000</td>\n",
       "      <td>94728529</td>\n",
       "      <td>The Wedding Planner</td>\n",
       "      <td>Jennifer Lopez|Matthew McConaughey|Justin Cham...</td>\n",
       "      <td>Adam Shankman</td>\n",
       "      <td>His big day is her big problem.</td>\n",
       "      <td>Mary Fiore, San Francisco's premiere wedding p...</td>\n",
       "      <td>103</td>\n",
       "      <td>Comedy</td>\n",
       "      <td>Columbia Pictures Corporation|Intermedia Films...</td>\n",
       "      <td>1/26/2001</td>\n",
       "      <td>5.4</td>\n",
       "      <td>2001</td>\n",
       "    </tr>\n",
       "    <tr>\n",
       "      <th>1359</th>\n",
       "      <td>tt0443536</td>\n",
       "      <td>15000000</td>\n",
       "      <td>51053787</td>\n",
       "      <td>Hoodwinked!</td>\n",
       "      <td>Anne Hathaway|Glenn Close|Jim Belushi|Patrick ...</td>\n",
       "      <td>Cory Edwards|Todd Edwards|Tony Leech</td>\n",
       "      <td>Armed And Dangerously Dumb.</td>\n",
       "      <td>The recipes of candies of the goody shops have...</td>\n",
       "      <td>80</td>\n",
       "      <td>Animation|Comedy|Family</td>\n",
       "      <td>The Weinstein Company|Kanbar Entertainment|Blu...</td>\n",
       "      <td>12/16/2005</td>\n",
       "      <td>6.0</td>\n",
       "      <td>2005</td>\n",
       "    </tr>\n",
       "    <tr>\n",
       "      <th>259</th>\n",
       "      <td>tt1046173</td>\n",
       "      <td>175000000</td>\n",
       "      <td>302469017</td>\n",
       "      <td>G.I. Joe: The Rise of Cobra</td>\n",
       "      <td>Dennis Quaid|Channing Tatum|Marlon Wayans|Sien...</td>\n",
       "      <td>Stephen Sommers</td>\n",
       "      <td>When all else fails, they don't.</td>\n",
       "      <td>From the Egyptian desert to deep below the pol...</td>\n",
       "      <td>118</td>\n",
       "      <td>Adventure|Action|Thriller|Science Fiction</td>\n",
       "      <td>Paramount Pictures|Spyglass Entertainment|Di B...</td>\n",
       "      <td>8/4/2009</td>\n",
       "      <td>5.7</td>\n",
       "      <td>2009</td>\n",
       "    </tr>\n",
       "    <tr>\n",
       "      <th>1104</th>\n",
       "      <td>tt0332379</td>\n",
       "      <td>35000000</td>\n",
       "      <td>131282949</td>\n",
       "      <td>The School of Rock</td>\n",
       "      <td>Jack Black|Joan Cusack|Mike White|Sarah Silver...</td>\n",
       "      <td>Richard Linklater</td>\n",
       "      <td>He just landed the gig of his life: 5th grade.</td>\n",
       "      <td>Fired from his band and hard up for cash, guit...</td>\n",
       "      <td>108</td>\n",
       "      <td>Comedy|Music</td>\n",
       "      <td>Paramount Pictures</td>\n",
       "      <td>10/3/2003</td>\n",
       "      <td>6.6</td>\n",
       "      <td>2003</td>\n",
       "    </tr>\n",
       "    <tr>\n",
       "      <th>615</th>\n",
       "      <td>tt0373051</td>\n",
       "      <td>45000000</td>\n",
       "      <td>101702060</td>\n",
       "      <td>Journey to the Center of the Earth</td>\n",
       "      <td>Brendan Fraser|Josh Hutcherson|Anita Briem|Set...</td>\n",
       "      <td>Eric Brevig</td>\n",
       "      <td>Same Planet. Different World.</td>\n",
       "      <td>On a quest to find out what happened to his mi...</td>\n",
       "      <td>93</td>\n",
       "      <td>Action|Science Fiction|Adventure|Comedy|Family</td>\n",
       "      <td>New Line Cinema|Walden Media</td>\n",
       "      <td>7/10/2008</td>\n",
       "      <td>5.7</td>\n",
       "      <td>2008</td>\n",
       "    </tr>\n",
       "  </tbody>\n",
       "</table>\n",
       "</div>"
      ],
      "text/plain": [
       "        imdb_id     budget    revenue                      original_title  \\\n",
       "543   tt0209475   35000000   94728529                 The Wedding Planner   \n",
       "1359  tt0443536   15000000   51053787                         Hoodwinked!   \n",
       "259   tt1046173  175000000  302469017         G.I. Joe: The Rise of Cobra   \n",
       "1104  tt0332379   35000000  131282949                  The School of Rock   \n",
       "615   tt0373051   45000000  101702060  Journey to the Center of the Earth   \n",
       "\n",
       "                                                   cast  \\\n",
       "543   Jennifer Lopez|Matthew McConaughey|Justin Cham...   \n",
       "1359  Anne Hathaway|Glenn Close|Jim Belushi|Patrick ...   \n",
       "259   Dennis Quaid|Channing Tatum|Marlon Wayans|Sien...   \n",
       "1104  Jack Black|Joan Cusack|Mike White|Sarah Silver...   \n",
       "615   Brendan Fraser|Josh Hutcherson|Anita Briem|Set...   \n",
       "\n",
       "                                  director  \\\n",
       "543                          Adam Shankman   \n",
       "1359  Cory Edwards|Todd Edwards|Tony Leech   \n",
       "259                        Stephen Sommers   \n",
       "1104                     Richard Linklater   \n",
       "615                            Eric Brevig   \n",
       "\n",
       "                                             tagline  \\\n",
       "543                  His big day is her big problem.   \n",
       "1359                     Armed And Dangerously Dumb.   \n",
       "259                 When all else fails, they don't.   \n",
       "1104  He just landed the gig of his life: 5th grade.   \n",
       "615                    Same Planet. Different World.   \n",
       "\n",
       "                                               overview  runtime  \\\n",
       "543   Mary Fiore, San Francisco's premiere wedding p...      103   \n",
       "1359  The recipes of candies of the goody shops have...       80   \n",
       "259   From the Egyptian desert to deep below the pol...      118   \n",
       "1104  Fired from his band and hard up for cash, guit...      108   \n",
       "615   On a quest to find out what happened to his mi...       93   \n",
       "\n",
       "                                              genres  \\\n",
       "543                                           Comedy   \n",
       "1359                         Animation|Comedy|Family   \n",
       "259        Adventure|Action|Thriller|Science Fiction   \n",
       "1104                                    Comedy|Music   \n",
       "615   Action|Science Fiction|Adventure|Comedy|Family   \n",
       "\n",
       "                                   production_companies release_date  \\\n",
       "543   Columbia Pictures Corporation|Intermedia Films...    1/26/2001   \n",
       "1359  The Weinstein Company|Kanbar Entertainment|Blu...   12/16/2005   \n",
       "259   Paramount Pictures|Spyglass Entertainment|Di B...     8/4/2009   \n",
       "1104                                 Paramount Pictures    10/3/2003   \n",
       "615                        New Line Cinema|Walden Media    7/10/2008   \n",
       "\n",
       "      vote_average  release_year  \n",
       "543            5.4          2001  \n",
       "1359           6.0          2005  \n",
       "259            5.7          2009  \n",
       "1104           6.6          2003  \n",
       "615            5.7          2008  "
      ]
     },
     "execution_count": 69,
     "metadata": {},
     "output_type": "execute_result"
    }
   ],
   "source": [
    "data = pd.read_csv('movie_bd_v5.csv')\n",
    "data.sample(5)"
   ]
  },
  {
   "cell_type": "code",
   "execution_count": 70,
   "metadata": {
    "colab": {},
    "colab_type": "code",
    "id": "CoYUnagMVp-C"
   },
   "outputs": [
    {
     "data": {
      "text/html": [
       "<div>\n",
       "<style scoped>\n",
       "    .dataframe tbody tr th:only-of-type {\n",
       "        vertical-align: middle;\n",
       "    }\n",
       "\n",
       "    .dataframe tbody tr th {\n",
       "        vertical-align: top;\n",
       "    }\n",
       "\n",
       "    .dataframe thead th {\n",
       "        text-align: right;\n",
       "    }\n",
       "</style>\n",
       "<table border=\"1\" class=\"dataframe\">\n",
       "  <thead>\n",
       "    <tr style=\"text-align: right;\">\n",
       "      <th></th>\n",
       "      <th>budget</th>\n",
       "      <th>revenue</th>\n",
       "      <th>runtime</th>\n",
       "      <th>vote_average</th>\n",
       "      <th>release_year</th>\n",
       "    </tr>\n",
       "  </thead>\n",
       "  <tbody>\n",
       "    <tr>\n",
       "      <th>count</th>\n",
       "      <td>1.889000e+03</td>\n",
       "      <td>1.889000e+03</td>\n",
       "      <td>1889.000000</td>\n",
       "      <td>1889.000000</td>\n",
       "      <td>1889.000000</td>\n",
       "    </tr>\n",
       "    <tr>\n",
       "      <th>mean</th>\n",
       "      <td>5.431083e+07</td>\n",
       "      <td>1.553653e+08</td>\n",
       "      <td>109.658549</td>\n",
       "      <td>6.140762</td>\n",
       "      <td>2007.860773</td>\n",
       "    </tr>\n",
       "    <tr>\n",
       "      <th>std</th>\n",
       "      <td>4.858721e+07</td>\n",
       "      <td>2.146698e+08</td>\n",
       "      <td>18.017041</td>\n",
       "      <td>0.764763</td>\n",
       "      <td>4.468841</td>\n",
       "    </tr>\n",
       "    <tr>\n",
       "      <th>min</th>\n",
       "      <td>5.000000e+06</td>\n",
       "      <td>2.033165e+06</td>\n",
       "      <td>63.000000</td>\n",
       "      <td>3.300000</td>\n",
       "      <td>2000.000000</td>\n",
       "    </tr>\n",
       "    <tr>\n",
       "      <th>25%</th>\n",
       "      <td>2.000000e+07</td>\n",
       "      <td>3.456058e+07</td>\n",
       "      <td>97.000000</td>\n",
       "      <td>5.600000</td>\n",
       "      <td>2004.000000</td>\n",
       "    </tr>\n",
       "    <tr>\n",
       "      <th>50%</th>\n",
       "      <td>3.800000e+07</td>\n",
       "      <td>8.361541e+07</td>\n",
       "      <td>107.000000</td>\n",
       "      <td>6.100000</td>\n",
       "      <td>2008.000000</td>\n",
       "    </tr>\n",
       "    <tr>\n",
       "      <th>75%</th>\n",
       "      <td>7.200000e+07</td>\n",
       "      <td>1.782626e+08</td>\n",
       "      <td>120.000000</td>\n",
       "      <td>6.600000</td>\n",
       "      <td>2012.000000</td>\n",
       "    </tr>\n",
       "    <tr>\n",
       "      <th>max</th>\n",
       "      <td>3.800000e+08</td>\n",
       "      <td>2.781506e+09</td>\n",
       "      <td>214.000000</td>\n",
       "      <td>8.100000</td>\n",
       "      <td>2015.000000</td>\n",
       "    </tr>\n",
       "  </tbody>\n",
       "</table>\n",
       "</div>"
      ],
      "text/plain": [
       "             budget       revenue      runtime  vote_average  release_year\n",
       "count  1.889000e+03  1.889000e+03  1889.000000   1889.000000   1889.000000\n",
       "mean   5.431083e+07  1.553653e+08   109.658549      6.140762   2007.860773\n",
       "std    4.858721e+07  2.146698e+08    18.017041      0.764763      4.468841\n",
       "min    5.000000e+06  2.033165e+06    63.000000      3.300000   2000.000000\n",
       "25%    2.000000e+07  3.456058e+07    97.000000      5.600000   2004.000000\n",
       "50%    3.800000e+07  8.361541e+07   107.000000      6.100000   2008.000000\n",
       "75%    7.200000e+07  1.782626e+08   120.000000      6.600000   2012.000000\n",
       "max    3.800000e+08  2.781506e+09   214.000000      8.100000   2015.000000"
      ]
     },
     "execution_count": 70,
     "metadata": {},
     "output_type": "execute_result"
    }
   ],
   "source": [
    "data.describe()"
   ]
  },
  {
   "cell_type": "markdown",
   "metadata": {
    "colab_type": "text",
    "id": "DTIt7ezGVp-G"
   },
   "source": [
    "# Предобработка"
   ]
  },
  {
   "cell_type": "code",
   "execution_count": 71,
   "metadata": {
    "colab": {},
    "colab_type": "code",
    "id": "jNb40DwKVp-H"
   },
   "outputs": [],
   "source": [
    "answers = {} # Cоздадим словарь для ответов\n",
    "data['profit'] = data['revenue'] - data['budget'] # Создадим столбец для расчета прибыли"
   ]
  },
  {
   "cell_type": "markdown",
   "metadata": {
    "colab_type": "text",
    "id": "YxZaH-nPVp-L"
   },
   "source": [
    "# 1. У какого фильма из списка самый большой бюджет?"
   ]
  },
  {
   "cell_type": "code",
   "execution_count": 72,
   "metadata": {
    "colab": {},
    "colab_type": "code",
    "id": "uVnXAY5RVp-O"
   },
   "outputs": [],
   "source": [
    "answers['1'] = 'Pirates of the Caribbean: On Stranger Tides (tt1298650)' # +"
   ]
  },
  {
   "cell_type": "markdown",
   "metadata": {},
   "source": [
    "Решение:"
   ]
  },
  {
   "cell_type": "code",
   "execution_count": 73,
   "metadata": {
    "colab": {},
    "colab_type": "code",
    "id": "OGaoQI7rVp-X"
   },
   "outputs": [
    {
     "data": {
      "text/html": [
       "<div>\n",
       "<style scoped>\n",
       "    .dataframe tbody tr th:only-of-type {\n",
       "        vertical-align: middle;\n",
       "    }\n",
       "\n",
       "    .dataframe tbody tr th {\n",
       "        vertical-align: top;\n",
       "    }\n",
       "\n",
       "    .dataframe thead th {\n",
       "        text-align: right;\n",
       "    }\n",
       "</style>\n",
       "<table border=\"1\" class=\"dataframe\">\n",
       "  <thead>\n",
       "    <tr style=\"text-align: right;\">\n",
       "      <th></th>\n",
       "      <th>original_title</th>\n",
       "      <th>budget</th>\n",
       "    </tr>\n",
       "  </thead>\n",
       "  <tbody>\n",
       "    <tr>\n",
       "      <th>723</th>\n",
       "      <td>Pirates of the Caribbean: On Stranger Tides</td>\n",
       "      <td>380000000</td>\n",
       "    </tr>\n",
       "  </tbody>\n",
       "</table>\n",
       "</div>"
      ],
      "text/plain": [
       "                                  original_title     budget\n",
       "723  Pirates of the Caribbean: On Stranger Tides  380000000"
      ]
     },
     "execution_count": 73,
     "metadata": {},
     "output_type": "execute_result"
    }
   ],
   "source": [
    "big_budget = data[['original_title', 'budget']] # Выберем только те столбцы, которые нам нужны для решения.\n",
    "big_budget.loc[(big_budget['budget'] == big_budget.budget.max())] # Выведем результат на экран."
   ]
  },
  {
   "cell_type": "markdown",
   "metadata": {
    "colab_type": "text",
    "id": "FNRbbI3vVp-c"
   },
   "source": [
    "# 2. Какой из фильмов самый длительный (в минутах)?"
   ]
  },
  {
   "cell_type": "code",
   "execution_count": 74,
   "metadata": {
    "colab": {},
    "colab_type": "code",
    "id": "vHAoEXNTVp-d"
   },
   "outputs": [],
   "source": [
    "answers['2'] = 'Gods and Generals (tt0279111)' # +"
   ]
  },
  {
   "cell_type": "markdown",
   "metadata": {},
   "source": [
    "Решение:"
   ]
  },
  {
   "cell_type": "code",
   "execution_count": 75,
   "metadata": {
    "colab": {},
    "colab_type": "code",
    "id": "ot-VX2XrVp-g"
   },
   "outputs": [
    {
     "data": {
      "text/html": [
       "<div>\n",
       "<style scoped>\n",
       "    .dataframe tbody tr th:only-of-type {\n",
       "        vertical-align: middle;\n",
       "    }\n",
       "\n",
       "    .dataframe tbody tr th {\n",
       "        vertical-align: top;\n",
       "    }\n",
       "\n",
       "    .dataframe thead th {\n",
       "        text-align: right;\n",
       "    }\n",
       "</style>\n",
       "<table border=\"1\" class=\"dataframe\">\n",
       "  <thead>\n",
       "    <tr style=\"text-align: right;\">\n",
       "      <th></th>\n",
       "      <th>original_title</th>\n",
       "      <th>runtime</th>\n",
       "    </tr>\n",
       "  </thead>\n",
       "  <tbody>\n",
       "    <tr>\n",
       "      <th>1157</th>\n",
       "      <td>Gods and Generals</td>\n",
       "      <td>214</td>\n",
       "    </tr>\n",
       "  </tbody>\n",
       "</table>\n",
       "</div>"
      ],
      "text/plain": [
       "         original_title  runtime\n",
       "1157  Gods and Generals      214"
      ]
     },
     "execution_count": 75,
     "metadata": {},
     "output_type": "execute_result"
    }
   ],
   "source": [
    "long_film = data[['original_title','runtime']] # Выберем только те столбцы, которые нам нужны для решения.\n",
    "long_film.loc[(long_film['runtime'] == long_film.runtime.max())] # Выведем результат на экран."
   ]
  },
  {
   "cell_type": "markdown",
   "metadata": {
    "colab_type": "text",
    "id": "bapLlpW8Vp-k"
   },
   "source": [
    "# 3. Какой из фильмов самый короткий (в минутах)?\n",
    "\n",
    "\n",
    "\n"
   ]
  },
  {
   "cell_type": "code",
   "execution_count": 76,
   "metadata": {},
   "outputs": [],
   "source": [
    "answers['3'] = 'Winnie the Pooh (tt1449283)' # +"
   ]
  },
  {
   "cell_type": "markdown",
   "metadata": {},
   "source": [
    "Решение:"
   ]
  },
  {
   "cell_type": "code",
   "execution_count": 77,
   "metadata": {
    "colab": {},
    "colab_type": "code",
    "id": "YBxaSHuAVp-l"
   },
   "outputs": [
    {
     "data": {
      "text/html": [
       "<div>\n",
       "<style scoped>\n",
       "    .dataframe tbody tr th:only-of-type {\n",
       "        vertical-align: middle;\n",
       "    }\n",
       "\n",
       "    .dataframe tbody tr th {\n",
       "        vertical-align: top;\n",
       "    }\n",
       "\n",
       "    .dataframe thead th {\n",
       "        text-align: right;\n",
       "    }\n",
       "</style>\n",
       "<table border=\"1\" class=\"dataframe\">\n",
       "  <thead>\n",
       "    <tr style=\"text-align: right;\">\n",
       "      <th></th>\n",
       "      <th>original_title</th>\n",
       "      <th>runtime</th>\n",
       "    </tr>\n",
       "  </thead>\n",
       "  <tbody>\n",
       "    <tr>\n",
       "      <th>768</th>\n",
       "      <td>Winnie the Pooh</td>\n",
       "      <td>63</td>\n",
       "    </tr>\n",
       "  </tbody>\n",
       "</table>\n",
       "</div>"
      ],
      "text/plain": [
       "      original_title  runtime\n",
       "768  Winnie the Pooh       63"
      ]
     },
     "execution_count": 77,
     "metadata": {},
     "output_type": "execute_result"
    }
   ],
   "source": [
    "short_film = data[['original_title','runtime']] # Выберем только те столбцы, которые нам нужны для решения.\n",
    "short_film.loc[(short_film['runtime'] == short_film.runtime.min())] # Выведем результат на экран."
   ]
  },
  {
   "cell_type": "markdown",
   "metadata": {
    "colab_type": "text",
    "id": "TfQbxbfNVp-p"
   },
   "source": [
    "# 4. Какова средняя длительность фильмов?\n"
   ]
  },
  {
   "cell_type": "code",
   "execution_count": 130,
   "metadata": {},
   "outputs": [],
   "source": [
    "answers['4'] = '110' # +"
   ]
  },
  {
   "cell_type": "markdown",
   "metadata": {},
   "source": [
    "Решение:"
   ]
  },
  {
   "cell_type": "code",
   "execution_count": 12,
   "metadata": {
    "colab": {},
    "colab_type": "code",
    "id": "5K6dKZYVVp-q"
   },
   "outputs": [
    {
     "data": {
      "text/plain": [
       "runtime    110.0\n",
       "dtype: float64"
      ]
     },
     "execution_count": 12,
     "metadata": {},
     "output_type": "execute_result"
    }
   ],
   "source": [
    "mean_film = data[['runtime']] # Выберем столбец, по которому будем считать среднее значение.\n",
    "round(mean_film.mean()) # Посчитаем, округлим до целого числа и выведем на экран."
   ]
  },
  {
   "cell_type": "markdown",
   "metadata": {
    "colab_type": "text",
    "id": "r5TvbnT_Vp-u"
   },
   "source": [
    "# 5. Каково медианное значение длительности фильмов? "
   ]
  },
  {
   "cell_type": "code",
   "execution_count": 78,
   "metadata": {},
   "outputs": [],
   "source": [
    "answers['5'] = '107' # +"
   ]
  },
  {
   "cell_type": "markdown",
   "metadata": {},
   "source": [
    "Решение:"
   ]
  },
  {
   "cell_type": "code",
   "execution_count": 79,
   "metadata": {
    "colab": {},
    "colab_type": "code",
    "id": "iBROplKnVp-v"
   },
   "outputs": [
    {
     "data": {
      "text/plain": [
       "runtime    107.0\n",
       "dtype: float64"
      ]
     },
     "execution_count": 79,
     "metadata": {},
     "output_type": "execute_result"
    }
   ],
   "source": [
    "median_film = data[['runtime']] # Выберем столбец, по которому будем считать среднее значение.\n",
    "median_film.median() # Посчитаем и выведем на экран."
   ]
  },
  {
   "cell_type": "markdown",
   "metadata": {
    "colab_type": "text",
    "id": "39P-deDSVp-y"
   },
   "source": [
    "# 6. Какой самый прибыльный фильм?\n",
    "#### Внимание! Здесь и далее под «прибылью» или «убытками» понимается разность между сборами и бюджетом фильма. (прибыль = сборы - бюджет) в нашем датасете это будет (profit = revenue - budget) "
   ]
  },
  {
   "cell_type": "code",
   "execution_count": 80,
   "metadata": {},
   "outputs": [],
   "source": [
    "answers['6'] = 'Avatar (tt0499549)' # +"
   ]
  },
  {
   "cell_type": "markdown",
   "metadata": {},
   "source": [
    "Решение:"
   ]
  },
  {
   "cell_type": "code",
   "execution_count": 81,
   "metadata": {
    "colab": {},
    "colab_type": "code",
    "id": "UYZh4T9WVp-y"
   },
   "outputs": [
    {
     "data": {
      "text/html": [
       "<div>\n",
       "<style scoped>\n",
       "    .dataframe tbody tr th:only-of-type {\n",
       "        vertical-align: middle;\n",
       "    }\n",
       "\n",
       "    .dataframe tbody tr th {\n",
       "        vertical-align: top;\n",
       "    }\n",
       "\n",
       "    .dataframe thead th {\n",
       "        text-align: right;\n",
       "    }\n",
       "</style>\n",
       "<table border=\"1\" class=\"dataframe\">\n",
       "  <thead>\n",
       "    <tr style=\"text-align: right;\">\n",
       "      <th></th>\n",
       "      <th>original_title</th>\n",
       "      <th>profit</th>\n",
       "    </tr>\n",
       "  </thead>\n",
       "  <tbody>\n",
       "    <tr>\n",
       "      <th>239</th>\n",
       "      <td>Avatar</td>\n",
       "      <td>2544505847</td>\n",
       "    </tr>\n",
       "  </tbody>\n",
       "</table>\n",
       "</div>"
      ],
      "text/plain": [
       "    original_title      profit\n",
       "239         Avatar  2544505847"
      ]
     },
     "execution_count": 81,
     "metadata": {},
     "output_type": "execute_result"
    }
   ],
   "source": [
    "max_profit = data[['original_title','profit']] # Выберем только те столбцы, которые нам нужны для решения.\n",
    "max_profit.loc[(max_profit['profit'] == max_profit.profit.max())] # Выведем результат на экран."
   ]
  },
  {
   "cell_type": "markdown",
   "metadata": {
    "colab_type": "text",
    "id": "M99JmIX4Vp-2"
   },
   "source": [
    "# 7. Какой фильм самый убыточный? "
   ]
  },
  {
   "cell_type": "code",
   "execution_count": 82,
   "metadata": {},
   "outputs": [],
   "source": [
    "answers['7'] = 'The Lone Ranger (tt1210819)' # +"
   ]
  },
  {
   "cell_type": "markdown",
   "metadata": {},
   "source": [
    "Решение:"
   ]
  },
  {
   "cell_type": "code",
   "execution_count": 83,
   "metadata": {
    "colab": {},
    "colab_type": "code",
    "id": "w-D2m4XPVp-3"
   },
   "outputs": [
    {
     "data": {
      "text/html": [
       "<div>\n",
       "<style scoped>\n",
       "    .dataframe tbody tr th:only-of-type {\n",
       "        vertical-align: middle;\n",
       "    }\n",
       "\n",
       "    .dataframe tbody tr th {\n",
       "        vertical-align: top;\n",
       "    }\n",
       "\n",
       "    .dataframe thead th {\n",
       "        text-align: right;\n",
       "    }\n",
       "</style>\n",
       "<table border=\"1\" class=\"dataframe\">\n",
       "  <thead>\n",
       "    <tr style=\"text-align: right;\">\n",
       "      <th></th>\n",
       "      <th>original_title</th>\n",
       "      <th>profit</th>\n",
       "    </tr>\n",
       "  </thead>\n",
       "  <tbody>\n",
       "    <tr>\n",
       "      <th>1245</th>\n",
       "      <td>The Lone Ranger</td>\n",
       "      <td>-165710090</td>\n",
       "    </tr>\n",
       "  </tbody>\n",
       "</table>\n",
       "</div>"
      ],
      "text/plain": [
       "       original_title     profit\n",
       "1245  The Lone Ranger -165710090"
      ]
     },
     "execution_count": 83,
     "metadata": {},
     "output_type": "execute_result"
    }
   ],
   "source": [
    "min_profit = data[['original_title','profit']] # Выберем только те столбцы, которые нам нужны для решения.\n",
    "min_profit.loc[(min_profit['profit'] == min_profit.profit.min())] # Выведем результат на экран."
   ]
  },
  {
   "cell_type": "markdown",
   "metadata": {
    "colab_type": "text",
    "id": "wEOM5ERVVp-6"
   },
   "source": [
    "# 8. У скольких фильмов из датасета объем сборов оказался выше бюджета?"
   ]
  },
  {
   "cell_type": "code",
   "execution_count": 84,
   "metadata": {},
   "outputs": [],
   "source": [
    "answers['8'] = '1478' # +"
   ]
  },
  {
   "cell_type": "markdown",
   "metadata": {},
   "source": [
    "Решение:"
   ]
  },
  {
   "cell_type": "code",
   "execution_count": 85,
   "metadata": {
    "colab": {},
    "colab_type": "code",
    "id": "y00_7HD6Vp-7"
   },
   "outputs": [
    {
     "name": "stdout",
     "output_type": "stream",
     "text": [
      "<class 'pandas.core.frame.DataFrame'>\n",
      "Int64Index: 1478 entries, 0 to 1884\n",
      "Data columns (total 2 columns):\n",
      " #   Column          Non-Null Count  Dtype \n",
      "---  ------          --------------  ----- \n",
      " 0   original_title  1478 non-null   object\n",
      " 1   profit          1478 non-null   int64 \n",
      "dtypes: int64(1), object(1)\n",
      "memory usage: 34.6+ KB\n"
     ]
    }
   ],
   "source": [
    "good_profit = data[['original_title','profit']] # Выберем только те столбцы, которые нам нужны для решения.\n",
    "good_profit.loc[(good_profit['profit'] > 0)].info() # Выведем информацию о количестве отобранных строк.\n"
   ]
  },
  {
   "cell_type": "markdown",
   "metadata": {
    "colab_type": "text",
    "id": "xhpspA9KVp_A"
   },
   "source": [
    "# 9. Какой фильм оказался самым кассовым в 2008 году?"
   ]
  },
  {
   "cell_type": "code",
   "execution_count": 86,
   "metadata": {},
   "outputs": [],
   "source": [
    "answers['9'] = 'The Dark Knight (tt0468569)' # +"
   ]
  },
  {
   "cell_type": "markdown",
   "metadata": {},
   "source": [
    "Решение:"
   ]
  },
  {
   "cell_type": "code",
   "execution_count": 87,
   "metadata": {
    "colab": {},
    "colab_type": "code",
    "id": "MoUyQr9RVp_B"
   },
   "outputs": [
    {
     "data": {
      "text/html": [
       "<div>\n",
       "<style scoped>\n",
       "    .dataframe tbody tr th:only-of-type {\n",
       "        vertical-align: middle;\n",
       "    }\n",
       "\n",
       "    .dataframe tbody tr th {\n",
       "        vertical-align: top;\n",
       "    }\n",
       "\n",
       "    .dataframe thead th {\n",
       "        text-align: right;\n",
       "    }\n",
       "</style>\n",
       "<table border=\"1\" class=\"dataframe\">\n",
       "  <thead>\n",
       "    <tr style=\"text-align: right;\">\n",
       "      <th></th>\n",
       "      <th>original_title</th>\n",
       "      <th>release_year</th>\n",
       "      <th>revenue</th>\n",
       "    </tr>\n",
       "  </thead>\n",
       "  <tbody>\n",
       "    <tr>\n",
       "      <th>599</th>\n",
       "      <td>The Dark Knight</td>\n",
       "      <td>2008</td>\n",
       "      <td>1001921825</td>\n",
       "    </tr>\n",
       "  </tbody>\n",
       "</table>\n",
       "</div>"
      ],
      "text/plain": [
       "      original_title  release_year     revenue\n",
       "599  The Dark Knight          2008  1001921825"
      ]
     },
     "execution_count": 87,
     "metadata": {},
     "output_type": "execute_result"
    }
   ],
   "source": [
    "max_revenue = data[['original_title','release_year','revenue']] # Выберем нужные столбцы\n",
    "max_revenue = max_revenue[(max_revenue['release_year'] == 2008)] # Поместим данные о фильмах 2008 года в переменную\n",
    "max_revenue.loc[max_revenue['revenue']== max_revenue.revenue.max()] # Выведем на экран самый кассовый фильм."
   ]
  },
  {
   "cell_type": "markdown",
   "metadata": {
    "colab_type": "text",
    "id": "Zi4hDKidVp_F"
   },
   "source": [
    "# 10. Самый убыточный фильм за период с 2012 по 2014 г. (включительно)?\n"
   ]
  },
  {
   "cell_type": "code",
   "execution_count": 88,
   "metadata": {},
   "outputs": [],
   "source": [
    "answers['10'] = 'The Lone Ranger (tt1210819)' # +"
   ]
  },
  {
   "cell_type": "markdown",
   "metadata": {},
   "source": [
    "Решение:"
   ]
  },
  {
   "cell_type": "code",
   "execution_count": 89,
   "metadata": {
    "colab": {},
    "colab_type": "code",
    "id": "XqyRmufJVp_F"
   },
   "outputs": [
    {
     "data": {
      "text/html": [
       "<div>\n",
       "<style scoped>\n",
       "    .dataframe tbody tr th:only-of-type {\n",
       "        vertical-align: middle;\n",
       "    }\n",
       "\n",
       "    .dataframe tbody tr th {\n",
       "        vertical-align: top;\n",
       "    }\n",
       "\n",
       "    .dataframe thead th {\n",
       "        text-align: right;\n",
       "    }\n",
       "</style>\n",
       "<table border=\"1\" class=\"dataframe\">\n",
       "  <thead>\n",
       "    <tr style=\"text-align: right;\">\n",
       "      <th></th>\n",
       "      <th>original_title</th>\n",
       "      <th>release_year</th>\n",
       "      <th>profit</th>\n",
       "    </tr>\n",
       "  </thead>\n",
       "  <tbody>\n",
       "    <tr>\n",
       "      <th>1245</th>\n",
       "      <td>The Lone Ranger</td>\n",
       "      <td>2013</td>\n",
       "      <td>-165710090</td>\n",
       "    </tr>\n",
       "  </tbody>\n",
       "</table>\n",
       "</div>"
      ],
      "text/plain": [
       "       original_title  release_year     profit\n",
       "1245  The Lone Ranger          2013 -165710090"
      ]
     },
     "execution_count": 89,
     "metadata": {},
     "output_type": "execute_result"
    }
   ],
   "source": [
    "min_revenue = data[['original_title','release_year','profit']] # Выберем нужные столбцы\n",
    "min_revenue = min_revenue[(min_revenue['release_year'] >= 2012) & (min_revenue['release_year'] <= 2014)] \n",
    "min_revenue.loc[min_revenue['profit']== min_revenue.profit.min()] # Выведем на экран самый убыточный фильм."
   ]
  },
  {
   "cell_type": "markdown",
   "metadata": {
    "colab_type": "text",
    "id": "EA7Sa9dkVp_I"
   },
   "source": [
    "# 11. Какого жанра фильмов больше всего?"
   ]
  },
  {
   "cell_type": "code",
   "execution_count": 90,
   "metadata": {
    "colab": {},
    "colab_type": "code",
    "id": "zsJAwJ8QVp_J"
   },
   "outputs": [],
   "source": [
    "answers['11'] = 'Drama' # +"
   ]
  },
  {
   "cell_type": "markdown",
   "metadata": {},
   "source": [
    "Решение:"
   ]
  },
  {
   "cell_type": "markdown",
   "metadata": {},
   "source": [
    "ВАРИАНТ 1"
   ]
  },
  {
   "cell_type": "code",
   "execution_count": 91,
   "metadata": {},
   "outputs": [
    {
     "data": {
      "text/plain": [
       "Drama        782\n",
       "Comedy       683\n",
       "Thriller     596\n",
       "Action       582\n",
       "Adventure    415\n",
       "dtype: int64"
      ]
     },
     "execution_count": 91,
     "metadata": {},
     "output_type": "execute_result"
    }
   ],
   "source": [
    "df11 = pd.read_csv('movie_bd_v5.csv')\n",
    "pd.Series(df11['genres'].str.cat(sep='|').split('|')).value_counts()[:5]"
   ]
  },
  {
   "cell_type": "markdown",
   "metadata": {
    "colab_type": "text",
    "id": "Ax6g2C8SVp_M"
   },
   "source": [
    "ВАРИАНТ 2"
   ]
  },
  {
   "cell_type": "code",
   "execution_count": 92,
   "metadata": {},
   "outputs": [
    {
     "data": {
      "text/plain": [
       "[('Drama', 782),\n",
       " ('Comedy', 683),\n",
       " ('Thriller', 596),\n",
       " ('Action', 582),\n",
       " ('Adventure', 415)]"
      ]
     },
     "execution_count": 92,
     "metadata": {},
     "output_type": "execute_result"
    }
   ],
   "source": [
    "data11 = pd.read_csv('movie_bd_v5.csv')\n",
    "data11['genres'] = data11['genres'].apply(lambda x:x.split('|'))\n",
    "Counter(data11.explode('genres')['genres']).most_common(5)"
   ]
  },
  {
   "cell_type": "markdown",
   "metadata": {
    "colab_type": "text",
    "id": "T9_bPWpkVp_Q"
   },
   "source": [
    "# 12. Фильмы какого жанра чаще всего становятся прибыльными? "
   ]
  },
  {
   "cell_type": "code",
   "execution_count": 93,
   "metadata": {},
   "outputs": [],
   "source": [
    "answers['12'] = 'Drama' # +"
   ]
  },
  {
   "cell_type": "markdown",
   "metadata": {},
   "source": [
    "Решение:"
   ]
  },
  {
   "cell_type": "markdown",
   "metadata": {},
   "source": [
    "ВАРИАНТ 1"
   ]
  },
  {
   "cell_type": "code",
   "execution_count": 94,
   "metadata": {
    "colab": {},
    "colab_type": "code",
    "id": "Tmt8MaK1Vp_R"
   },
   "outputs": [
    {
     "data": {
      "text/plain": [
       "[('Drama', 560),\n",
       " ('Comedy', 551),\n",
       " ('Thriller', 446),\n",
       " ('Action', 444),\n",
       " ('Adventure', 337)]"
      ]
     },
     "execution_count": 94,
     "metadata": {},
     "output_type": "execute_result"
    }
   ],
   "source": [
    "data12 = pd.read_csv('movie_bd_v5.csv')\n",
    "data12['profit'] = data12['revenue'] - data12['budget']\n",
    "import collections\n",
    "profit_genres = data12[data12.profit > 0]\n",
    "collections.Counter(profit_genres.genres.str.cat(sep = '|').split('|')).most_common(5)"
   ]
  },
  {
   "cell_type": "markdown",
   "metadata": {},
   "source": [
    "ВАРИАНТ 2"
   ]
  },
  {
   "cell_type": "code",
   "execution_count": 95,
   "metadata": {},
   "outputs": [
    {
     "data": {
      "text/plain": [
       "Drama        560\n",
       "Comedy       551\n",
       "Thriller     446\n",
       "Action       444\n",
       "Adventure    337\n",
       "dtype: int64"
      ]
     },
     "execution_count": 95,
     "metadata": {},
     "output_type": "execute_result"
    }
   ],
   "source": [
    "profit_genres = data[data.profit > 0]\n",
    "pd.Series(profit_genres['genres'].str.cat(sep='|').split('|')).value_counts()[:5]"
   ]
  },
  {
   "cell_type": "markdown",
   "metadata": {
    "colab_type": "text",
    "id": "0F23bgsDVp_U"
   },
   "source": [
    "# 13. У какого режиссера самые большие суммарные кассовые сборы?"
   ]
  },
  {
   "cell_type": "code",
   "execution_count": 96,
   "metadata": {},
   "outputs": [],
   "source": [
    "answers['13'] = 'Peter Jackson' # +"
   ]
  },
  {
   "cell_type": "markdown",
   "metadata": {},
   "source": [
    "Решение:"
   ]
  },
  {
   "cell_type": "code",
   "execution_count": 97,
   "metadata": {
    "colab": {},
    "colab_type": "code",
    "id": "K6Z3J8ygVp_X"
   },
   "outputs": [
    {
     "data": {
      "text/plain": [
       "director\n",
       "Peter Jackson        6490593685\n",
       "Christopher Nolan    4167548502\n",
       "David Yates          4154295625\n",
       "Michael Bay          3886938960\n",
       "J.J. Abrams          3579169916\n",
       "Name: revenue, dtype: int64"
      ]
     },
     "execution_count": 97,
     "metadata": {},
     "output_type": "execute_result"
    }
   ],
   "source": [
    "data13 = pd.read_csv('movie_bd_v5.csv')\n",
    "info_director = data13\n",
    "info_director['director'] = info_director['director'].apply(lambda x: x.split('|'))\n",
    "info_director = info_director.explode('director')\n",
    "info_director.groupby(['director'])['revenue'].sum().sort_values(ascending = False)[0:5]"
   ]
  },
  {
   "cell_type": "markdown",
   "metadata": {
    "colab_type": "text",
    "id": "PsYC9FgRVp_a"
   },
   "source": [
    "# 14. Какой режисер снял больше всего фильмов в стиле Action?"
   ]
  },
  {
   "cell_type": "code",
   "execution_count": 98,
   "metadata": {},
   "outputs": [],
   "source": [
    "answers['14'] = 'Robert Rodriguez' # +"
   ]
  },
  {
   "cell_type": "markdown",
   "metadata": {},
   "source": [
    "Решение:"
   ]
  },
  {
   "cell_type": "code",
   "execution_count": 99,
   "metadata": {
    "colab": {},
    "colab_type": "code",
    "id": "wd2M-wHeVp_b"
   },
   "outputs": [
    {
     "data": {
      "text/plain": [
       "[('Robert Rodriguez', 9),\n",
       " ('Michael Bay', 7),\n",
       " ('Paul W.S. Anderson', 7),\n",
       " ('Antoine Fuqua', 6),\n",
       " ('Ridley Scott', 6)]"
      ]
     },
     "execution_count": 99,
     "metadata": {},
     "output_type": "execute_result"
    }
   ],
   "source": [
    "data14 = pd.read_csv('movie_bd_v5.csv')\n",
    "data14['profit'] = data14['revenue'] - data14['budget']\n",
    "action_directors = data14[data14.genres.str.contains('Action', na = False)]\n",
    "collections.Counter(action_directors['director'].str.cat(sep = '|').split('|')).most_common(5)"
   ]
  },
  {
   "cell_type": "markdown",
   "metadata": {
    "colab_type": "text",
    "id": "PQ0KciD7Vp_f"
   },
   "source": [
    "# 15. Фильмы с каким актером принесли самые высокие кассовые сборы в 2012 году? "
   ]
  },
  {
   "cell_type": "code",
   "execution_count": 100,
   "metadata": {},
   "outputs": [],
   "source": [
    "answers['15'] = 'Chris Hemsworth' # +"
   ]
  },
  {
   "cell_type": "markdown",
   "metadata": {},
   "source": [
    "Решение:"
   ]
  },
  {
   "cell_type": "code",
   "execution_count": 101,
   "metadata": {
    "colab": {},
    "colab_type": "code",
    "id": "aga62oeKVp_g"
   },
   "outputs": [
    {
     "data": {
      "text/plain": [
       "cast\n",
       "Chris Hemsworth    2027450773\n",
       "Denis Leary        1629460639\n",
       "Anne Hathaway      1522851057\n",
       "Name: revenue, dtype: int64"
      ]
     },
     "execution_count": 101,
     "metadata": {},
     "output_type": "execute_result"
    }
   ],
   "source": [
    "data15 = pd.read_csv('movie_bd_v5.csv')\n",
    "df = data15[['release_year', 'revenue', 'cast']] # Оставим только нужные столбцы\n",
    "year_2012 = df[(df['release_year'] == 2012)] # Сделаем отдельный DF с данными за 2012 год\n",
    "df_actors = year_2012[:]\n",
    "df_actors['cast'] = df_actors['cast'].apply(lambda x: x.split('|')) # Представим столбец 'cast' как список\n",
    "df_actors = df_actors.explode('cast')\n",
    "df_actors = df_actors.groupby(['cast'])['revenue'].sum().sort_values(ascending = False)\n",
    "df_actors[0:3]"
   ]
  },
  {
   "cell_type": "markdown",
   "metadata": {
    "colab_type": "text",
    "id": "mWHyyL7QVp_j"
   },
   "source": [
    "# 16. Какой актер снялся в большем количестве высокобюджетных фильмов?"
   ]
  },
  {
   "cell_type": "code",
   "execution_count": 102,
   "metadata": {},
   "outputs": [],
   "source": [
    "answers['16'] = 'Matt Damon' # +"
   ]
  },
  {
   "cell_type": "markdown",
   "metadata": {},
   "source": [
    "Решение:"
   ]
  },
  {
   "cell_type": "markdown",
   "metadata": {},
   "source": [
    "ВАРИАНТ 1"
   ]
  },
  {
   "cell_type": "code",
   "execution_count": 103,
   "metadata": {
    "colab": {},
    "colab_type": "code",
    "id": "qQtmHKTFVp_k"
   },
   "outputs": [
    {
     "data": {
      "text/plain": [
       "'Matt Damon'"
      ]
     },
     "execution_count": 103,
     "metadata": {},
     "output_type": "execute_result"
    }
   ],
   "source": [
    "data16 = pd.read_csv('movie_bd_v5.csv')\n",
    "big_budget = data16[data16.budget > data16.budget.mean()]\n",
    "df_actor = big_budget[:]\n",
    "df_actor['cast'] = df_actor['cast'].apply(lambda x:x.split('|'))\n",
    "pd.Series(df_actor['cast'].sum()).value_counts().index[0]"
   ]
  },
  {
   "cell_type": "markdown",
   "metadata": {},
   "source": [
    "ВАРИАНТ 2"
   ]
  },
  {
   "cell_type": "code",
   "execution_count": 104,
   "metadata": {},
   "outputs": [
    {
     "data": {
      "text/plain": [
       "Matt Damon           18\n",
       "Adam Sandler         17\n",
       "Angelina Jolie       16\n",
       "Tom Cruise           15\n",
       "Samuel L. Jackson    15\n",
       "Name: cast, dtype: int64"
      ]
     },
     "execution_count": 104,
     "metadata": {},
     "output_type": "execute_result"
    }
   ],
   "source": [
    "df16 = pd.read_csv('movie_bd_v5.csv')\n",
    "df16['cast'] = df16['cast'].apply(lambda x: x.split('|'))\n",
    "data_director = df16.explode('cast')\n",
    "data_director.loc[df16.budget > df16.budget.mean()]['cast'].value_counts(ascending=False).head(5)"
   ]
  },
  {
   "cell_type": "markdown",
   "metadata": {
    "colab_type": "text",
    "id": "NIh6AaW5Vp_n"
   },
   "source": [
    "# 17. В фильмах какого жанра больше всего снимался Nicolas Cage? "
   ]
  },
  {
   "cell_type": "code",
   "execution_count": 105,
   "metadata": {
    "colab": {},
    "colab_type": "code",
    "id": "H74SJDIBVp_n"
   },
   "outputs": [],
   "source": [
    "answers['17'] = 'Action' # +"
   ]
  },
  {
   "cell_type": "markdown",
   "metadata": {},
   "source": [
    "Решение:"
   ]
  },
  {
   "cell_type": "code",
   "execution_count": 106,
   "metadata": {},
   "outputs": [
    {
     "data": {
      "text/plain": [
       "[('Action', 17), ('Thriller', 15), ('Drama', 12)]"
      ]
     },
     "execution_count": 106,
     "metadata": {},
     "output_type": "execute_result"
    }
   ],
   "source": [
    "data17 = pd.read_csv('movie_bd_v5.csv')\n",
    "cage = data17[data17.cast.str.contains('Nicolas Cage')]\n",
    "Counter(cage.genres.str.split('|').sum()).most_common(3)"
   ]
  },
  {
   "cell_type": "markdown",
   "metadata": {
    "colab_type": "text",
    "id": "RqOmPRfWVp_q"
   },
   "source": [
    "# 18. Самый убыточный фильм от Paramount Pictures"
   ]
  },
  {
   "cell_type": "code",
   "execution_count": 107,
   "metadata": {},
   "outputs": [],
   "source": [
    "answers['18'] = 'K-19: The Widowmaker (tt0267626)' # +"
   ]
  },
  {
   "cell_type": "markdown",
   "metadata": {},
   "source": [
    "Решение:"
   ]
  },
  {
   "cell_type": "code",
   "execution_count": 108,
   "metadata": {
    "colab": {},
    "colab_type": "code",
    "id": "9E_B0Y96Vp_r"
   },
   "outputs": [
    {
     "data": {
      "text/html": [
       "<div>\n",
       "<style scoped>\n",
       "    .dataframe tbody tr th:only-of-type {\n",
       "        vertical-align: middle;\n",
       "    }\n",
       "\n",
       "    .dataframe tbody tr th {\n",
       "        vertical-align: top;\n",
       "    }\n",
       "\n",
       "    .dataframe thead th {\n",
       "        text-align: right;\n",
       "    }\n",
       "</style>\n",
       "<table border=\"1\" class=\"dataframe\">\n",
       "  <thead>\n",
       "    <tr style=\"text-align: right;\">\n",
       "      <th></th>\n",
       "      <th>production_companies</th>\n",
       "      <th>original_title</th>\n",
       "      <th>profit</th>\n",
       "    </tr>\n",
       "  </thead>\n",
       "  <tbody>\n",
       "    <tr>\n",
       "      <th>925</th>\n",
       "      <td>Paramount Pictures</td>\n",
       "      <td>K-19: The Widowmaker</td>\n",
       "      <td>-64831034</td>\n",
       "    </tr>\n",
       "  </tbody>\n",
       "</table>\n",
       "</div>"
      ],
      "text/plain": [
       "    production_companies        original_title    profit\n",
       "925   Paramount Pictures  K-19: The Widowmaker -64831034"
      ]
     },
     "execution_count": 108,
     "metadata": {},
     "output_type": "execute_result"
    }
   ],
   "source": [
    "data18 = pd.read_csv('movie_bd_v5.csv')\n",
    "data18['profit'] = data18['revenue'] - data18['budget']\n",
    "df2 = data18[['production_companies','original_title','profit']]\n",
    "df2 = df2[:]\n",
    "df2['production_companies'] = df2['production_companies'].apply(lambda x: x.split('|'))\n",
    "production = df2.explode('production_companies')\n",
    "production = production[(production['production_companies'] == 'Paramount Pictures')]\n",
    "production.loc[(production['profit'] == production.profit.min())]\n"
   ]
  },
  {
   "cell_type": "markdown",
   "metadata": {
    "colab_type": "text",
    "id": "vS8Ur6ddVp_u"
   },
   "source": [
    "# 19. Какой год стал самым успешным по суммарным кассовым сборам?"
   ]
  },
  {
   "cell_type": "code",
   "execution_count": 109,
   "metadata": {},
   "outputs": [],
   "source": [
    "answers['19'] = '2015' # +"
   ]
  },
  {
   "cell_type": "markdown",
   "metadata": {},
   "source": [
    "Решение:"
   ]
  },
  {
   "cell_type": "code",
   "execution_count": 110,
   "metadata": {
    "colab": {},
    "colab_type": "code",
    "id": "Dnbt4GdIVp_v"
   },
   "outputs": [
    {
     "data": {
      "text/plain": [
       "release_year\n",
       "2015    25449202382\n",
       "2014    23405862953\n",
       "2013    23213799791\n",
       "2012    23079001687\n",
       "2011    22676791872\n",
       "Name: revenue, dtype: int64"
      ]
     },
     "execution_count": 110,
     "metadata": {},
     "output_type": "execute_result"
    }
   ],
   "source": [
    "data19 = pd.read_csv('movie_bd_v5.csv')\n",
    "data19['profit'] = data19['revenue'] - data19['budget']\n",
    "df = data19[['release_year','revenue']]\n",
    "good_year = df.groupby(['release_year'])['revenue'].sum().sort_values(ascending = False)\n",
    "good_year[0:5]"
   ]
  },
  {
   "cell_type": "markdown",
   "metadata": {
    "colab_type": "text",
    "id": "JAzJh4QAVp_z"
   },
   "source": [
    "# 20. Какой самый прибыльный год для студии Warner Bros?"
   ]
  },
  {
   "cell_type": "code",
   "execution_count": 111,
   "metadata": {},
   "outputs": [],
   "source": [
    "answers['20'] = '2014' # +"
   ]
  },
  {
   "cell_type": "markdown",
   "metadata": {},
   "source": [
    "Решение:"
   ]
  },
  {
   "cell_type": "markdown",
   "metadata": {},
   "source": [
    "ВАРИАНТ 1"
   ]
  },
  {
   "cell_type": "code",
   "execution_count": 112,
   "metadata": {
    "colab": {},
    "colab_type": "code",
    "id": "wgVu02DEVp_0"
   },
   "outputs": [
    {
     "data": {
      "text/plain": [
       "release_year\n",
       "2014    2292949646\n",
       "2007    2208217007\n",
       "2008    2134595031\n",
       "Name: profit, dtype: int64"
      ]
     },
     "execution_count": 112,
     "metadata": {},
     "output_type": "execute_result"
    }
   ],
   "source": [
    "data20 = pd.read_csv('movie_bd_v5.csv')\n",
    "data20['profit'] = data20['revenue'] - data20['budget']\n",
    "df20 = data20[['production_companies','release_year','profit']]\n",
    "df20 = df20[:]\n",
    "df20['production_companies'] = df20['production_companies'].apply(lambda x: x.split('|'))\n",
    "production2 = df20.explode('production_companies')\n",
    "only_wb = production2[:]\n",
    "only_wb['production_companies'] = only_wb['production_companies'].apply(lambda x: x.split())\n",
    "only_wb = only_wb.explode('production_companies')\n",
    "only_wb = only_wb[(only_wb['production_companies'] == 'Warner')]\n",
    "only_wb = only_wb.groupby(['release_year'])['profit'].sum().sort_values(ascending = False)\n",
    "only_wb[0:3]"
   ]
  },
  {
   "cell_type": "markdown",
   "metadata": {},
   "source": [
    "ВАРИАНТ 2"
   ]
  },
  {
   "cell_type": "code",
   "execution_count": 113,
   "metadata": {},
   "outputs": [
    {
     "data": {
      "text/plain": [
       "release_year\n",
       "2014    2295464519\n",
       "2007    2208217007\n",
       "2008    2134595031\n",
       "Name: profit, dtype: int64"
      ]
     },
     "execution_count": 113,
     "metadata": {},
     "output_type": "execute_result"
    }
   ],
   "source": [
    "data20a = pd.read_csv('movie_bd_v5.csv')\n",
    "data20a['profit'] = data20a['revenue'] - data20a['budget']\n",
    "only_wb2 = []\n",
    "for i in range(len(data20a.production_companies)):\n",
    "    if 'Warner' in data20a.production_companies.loc[i]:\n",
    "        only_wb2.append(data20a.loc[i])\n",
    "df_wb = pd.DataFrame(only_wb2)\n",
    "df_wb = df_wb.groupby(['release_year'])['profit'].sum().sort_values(ascending = False)\n",
    "df_wb[0:3]"
   ]
  },
  {
   "cell_type": "markdown",
   "metadata": {
    "colab_type": "text",
    "id": "8Im1S2HRVp_4"
   },
   "source": [
    "# 21. В каком месяце за все годы суммарно вышло больше всего фильмов?"
   ]
  },
  {
   "cell_type": "code",
   "execution_count": 114,
   "metadata": {},
   "outputs": [],
   "source": [
    "answers['21'] = 'September' # +"
   ]
  },
  {
   "cell_type": "markdown",
   "metadata": {},
   "source": [
    "Решение:"
   ]
  },
  {
   "cell_type": "code",
   "execution_count": 115,
   "metadata": {},
   "outputs": [
    {
     "data": {
      "text/plain": [
       "September    227\n",
       "December     190\n",
       "October      186\n",
       "August       161\n",
       "March        156\n",
       "April        149\n",
       "June         147\n",
       "November     146\n",
       "July         142\n",
       "May          140\n",
       "February     135\n",
       "January      110\n",
       "Name: month, dtype: int64"
      ]
     },
     "execution_count": 115,
     "metadata": {},
     "output_type": "execute_result"
    }
   ],
   "source": [
    "from datetime import datetime # Вызовем модуль datetime.\n",
    "data21 = pd.read_csv('movie_bd_v5.csv')\n",
    "df21 = data21[['release_date']] # Оставим только нужный нам столбец.\n",
    "df21 = df21[:] # Присвоим тип dataframe, чтобы JNotebook не ругался.\n",
    "'''А далее создадим новый столбец с именами месяцев, через lambda'''\n",
    "df21['month']=df21['release_date'].apply(lambda x : datetime.strptime(x, '%m/%d/%Y').strftime('%B'))\n",
    "df21.month.value_counts() # Посчитаем самый продуктивный месяц. Это 'September'."
   ]
  },
  {
   "cell_type": "markdown",
   "metadata": {
    "colab_type": "text",
    "id": "uAJsZ_NeVp_7"
   },
   "source": [
    "# 22. Сколько суммарно вышло фильмов летом? (за июнь, июль, август)"
   ]
  },
  {
   "cell_type": "code",
   "execution_count": 116,
   "metadata": {},
   "outputs": [],
   "source": [
    "answers['22'] = '450' # +"
   ]
  },
  {
   "cell_type": "markdown",
   "metadata": {},
   "source": [
    "Решение:"
   ]
  },
  {
   "cell_type": "code",
   "execution_count": 117,
   "metadata": {
    "colab": {},
    "colab_type": "code",
    "id": "Aa-hEREoVp_8"
   },
   "outputs": [
    {
     "name": "stdout",
     "output_type": "stream",
     "text": [
      "<class 'pandas.core.frame.DataFrame'>\n",
      "Int64Index: 450 entries, 0 to 1888\n",
      "Data columns (total 2 columns):\n",
      " #   Column        Non-Null Count  Dtype \n",
      "---  ------        --------------  ----- \n",
      " 0   release_date  450 non-null    object\n",
      " 1   month         450 non-null    object\n",
      "dtypes: object(2)\n",
      "memory usage: 10.5+ KB\n"
     ]
    }
   ],
   "source": [
    "from datetime import datetime # Вызовем модуль datetime.\n",
    "data22 = pd.read_csv('movie_bd_v5.csv')\n",
    "df22 = data22[['release_date']] # Оставим только нужный нам столбец.\n",
    "df22 = df22[:] # Присвоим тип dataframe, чтобы JNotebook не ругался.\n",
    "'''А далее создадим новый столбец с именами месяцев, через lambda'''\n",
    "df22['month'] = df22['release_date'].apply(lambda x : datetime.strptime(x, '%m/%d/%Y').strftime('%B'))\n",
    "df_summer = df22[(df22['month'] == 'June') | (df22['month'] == 'July') | (df22['month'] == 'August')]\n",
    "df_summer.info()"
   ]
  },
  {
   "cell_type": "markdown",
   "metadata": {
    "colab_type": "text",
    "id": "G94ppOY1VqAA"
   },
   "source": [
    "# 23. Для какого режиссера зима – самое продуктивное время года? "
   ]
  },
  {
   "cell_type": "code",
   "execution_count": 118,
   "metadata": {},
   "outputs": [],
   "source": [
    "answers['23'] = 'Peter Jackson' # +"
   ]
  },
  {
   "cell_type": "markdown",
   "metadata": {},
   "source": [
    "Решение:"
   ]
  },
  {
   "cell_type": "code",
   "execution_count": 119,
   "metadata": {
    "colab": {},
    "colab_type": "code",
    "id": "RhNTsamuVqAB"
   },
   "outputs": [
    {
     "data": {
      "text/plain": [
       "[Peter Jackson]                       7\n",
       "[Clint Eastwood]                      6\n",
       "[Steven Soderbergh]                   6\n",
       "[Shawn Levy]                          4\n",
       "[Nancy Meyers]                        4\n",
       "                                     ..\n",
       "[Paul Tibbitt]                        1\n",
       "[Florian Henckel von Donnersmarck]    1\n",
       "[Niki Caro]                           1\n",
       "[Mikael HÃ¥fstrÃ¶m]                   1\n",
       "[Guy Ferland]                         1\n",
       "Name: director, Length: 332, dtype: int64"
      ]
     },
     "execution_count": 119,
     "metadata": {},
     "output_type": "execute_result"
    }
   ],
   "source": [
    "df23 = pd.read_csv('movie_bd_v5.csv')\n",
    "df23['director'] = df23['director'].apply(lambda x:x.split('|')) # Разделим режиссеров.\n",
    "df23['release_date'] = df23['release_date'].apply(lambda x: x.split('/')) # Разделим дату.\n",
    "df23['month']=df23['release_date'].apply(lambda x: x[0]) # Выделим месяц.\n",
    "pivot = df23.loc[df23['month'].isin(['12','1','2'])] # Оставим только зимние месяцы.\n",
    "pivot['director'].value_counts()"
   ]
  },
  {
   "cell_type": "markdown",
   "metadata": {
    "colab_type": "text",
    "id": "RBo0JVjVVqAF"
   },
   "source": [
    "# 24. Какая студия дает самые длинные названия своим фильмам по количеству символов?"
   ]
  },
  {
   "cell_type": "code",
   "execution_count": 120,
   "metadata": {},
   "outputs": [],
   "source": [
    "answers['24'] = 'Four By Two Productions' # +"
   ]
  },
  {
   "cell_type": "markdown",
   "metadata": {},
   "source": [
    "Решение:"
   ]
  },
  {
   "cell_type": "code",
   "execution_count": 121,
   "metadata": {
    "colab": {},
    "colab_type": "code",
    "id": "QRGS8L0iVqAG"
   },
   "outputs": [
    {
     "data": {
      "text/plain": [
       "production_companies\n",
       "Four By Two Productions       83.0\n",
       "Jim Henson Company, The       59.0\n",
       "Dos Corazones                 47.0\n",
       "Museum Canada Productions     46.0\n",
       "Polsky Films                  46.0\n",
       "                              ... \n",
       "Everest Entertainment          3.0\n",
       "Berlanti Productions           3.0\n",
       "XM2 Productions                2.0\n",
       "Ixtlan Productions             2.0\n",
       "Global Entertainment Group     2.0\n",
       "Name: count_title, Length: 1771, dtype: float64"
      ]
     },
     "execution_count": 121,
     "metadata": {},
     "output_type": "execute_result"
    }
   ],
   "source": [
    "df24 = pd.read_csv('movie_bd_v5.csv')\n",
    "df24 = df24[['production_companies','original_title']] # Оставим необходимые столбцы.\n",
    "# А также создадим новый столбец, с количеством символов в названии фильмов.\n",
    "df24['count_title'] = df24['original_title'].apply(lambda x: len(x))\n",
    "df24['production_companies'] = df24['production_companies'].apply(lambda x: x.split('|'))\n",
    "df24 = df24.explode('production_companies')\n",
    "df24 = df24.groupby(['production_companies'])['count_title'].mean().sort_values(ascending = False)\n",
    "df24"
   ]
  },
  {
   "cell_type": "markdown",
   "metadata": {
    "colab_type": "text",
    "id": "9G0hbvR7VqAK"
   },
   "source": [
    "# 25. Описание фильмов какой студии в среднем самые длинные по количеству слов?"
   ]
  },
  {
   "cell_type": "code",
   "execution_count": 122,
   "metadata": {},
   "outputs": [],
   "source": [
    "answers['25'] = 'Midnight Picture Show' # +"
   ]
  },
  {
   "cell_type": "markdown",
   "metadata": {},
   "source": [
    "Решение:"
   ]
  },
  {
   "cell_type": "code",
   "execution_count": 123,
   "metadata": {
    "colab": {},
    "colab_type": "code",
    "id": "Ge2GsLNxVqAK"
   },
   "outputs": [
    {
     "data": {
      "text/plain": [
       "production_companies\n",
       "Midnight Picture Show                    175.0\n",
       "Room 9 Entertainment                     161.0\n",
       "Heineken Branded Entertainment           161.0\n",
       "98 MPH Productions                       159.0\n",
       "Brookwell-McNamara Entertainment         156.0\n",
       "                                         ...  \n",
       "London Boulevard                          13.0\n",
       "Phantom Four                              13.0\n",
       "Henceforth                                13.0\n",
       "Empire Pictures                           11.0\n",
       "Motion Picture Corporation of America     11.0\n",
       "Name: count_words, Length: 1771, dtype: float64"
      ]
     },
     "execution_count": 123,
     "metadata": {},
     "output_type": "execute_result"
    }
   ],
   "source": [
    "df25 = pd.read_csv('movie_bd_v5.csv')\n",
    "df25 = df25[['production_companies','overview']] # Оставим необходимые столбцы.\n",
    "# А также создадим новый столбец, с количеством слов в названии фильмов.\n",
    "df25['count_words'] = df25['overview'].apply(lambda x: len(x.split(' ')))\n",
    "df25['production_companies'] = df25['production_companies'].apply(lambda x: x.split('|'))\n",
    "df25 = df25.explode('production_companies')\n",
    "df25 = df25.groupby(['production_companies'])['count_words'].mean().sort_values(ascending = False)\n",
    "df25"
   ]
  },
  {
   "cell_type": "markdown",
   "metadata": {},
   "source": [
    "# 26. Какие фильмы входят в один процент лучших по рейтингу?"
   ]
  },
  {
   "cell_type": "code",
   "execution_count": 124,
   "metadata": {},
   "outputs": [],
   "source": [
    "answers['26'] = 'Inside Out, The Dark Knight, 12 Years a Slave' # +"
   ]
  },
  {
   "cell_type": "markdown",
   "metadata": {},
   "source": [
    "Решение:"
   ]
  },
  {
   "cell_type": "markdown",
   "metadata": {},
   "source": [
    "ВАРИАНТ 1"
   ]
  },
  {
   "cell_type": "code",
   "execution_count": 125,
   "metadata": {
    "colab": {},
    "colab_type": "code",
    "id": "8qmJVq4CVqAQ"
   },
   "outputs": [
    {
     "data": {
      "text/plain": [
       "['The Theory of Everything',\n",
       " 'The Lord of the Rings: The Two Towers',\n",
       " 'There Will Be Blood',\n",
       " 'Mr. Nobody',\n",
       " '12 Years a Slave',\n",
       " 'The Pianist',\n",
       " 'Gone Girl',\n",
       " 'Memento',\n",
       " 'Guardians of the Galaxy',\n",
       " 'Inception',\n",
       " 'The Wolf of Wall Street',\n",
       " 'The Grand Budapest Hotel',\n",
       " 'The Lord of the Rings: The Return of the King',\n",
       " 'Room',\n",
       " 'Interstellar',\n",
       " 'Inside Out',\n",
       " 'The Imitation Game',\n",
       " 'The Dark Knight']"
      ]
     },
     "execution_count": 125,
     "metadata": {},
     "output_type": "execute_result"
    }
   ],
   "source": [
    "df26 = pd.read_csv('movie_bd_v5.csv')\n",
    "df26 = df26[['original_title','vote_average']]\n",
    "df26 = df26.sort_values(by='vote_average').tail(int(df26.original_title.count()/100)).original_title\n",
    "df26 = df26.tolist()\n",
    "df26"
   ]
  },
  {
   "cell_type": "markdown",
   "metadata": {},
   "source": [
    "ВАРИАНТ 2"
   ]
  },
  {
   "cell_type": "code",
   "execution_count": 126,
   "metadata": {},
   "outputs": [
    {
     "data": {
      "text/html": [
       "<div>\n",
       "<style scoped>\n",
       "    .dataframe tbody tr th:only-of-type {\n",
       "        vertical-align: middle;\n",
       "    }\n",
       "\n",
       "    .dataframe tbody tr th {\n",
       "        vertical-align: top;\n",
       "    }\n",
       "\n",
       "    .dataframe thead th {\n",
       "        text-align: right;\n",
       "    }\n",
       "</style>\n",
       "<table border=\"1\" class=\"dataframe\">\n",
       "  <thead>\n",
       "    <tr style=\"text-align: right;\">\n",
       "      <th></th>\n",
       "      <th>original_title</th>\n",
       "      <th>vote_average</th>\n",
       "    </tr>\n",
       "  </thead>\n",
       "  <tbody>\n",
       "    <tr>\n",
       "      <th>599</th>\n",
       "      <td>The Dark Knight</td>\n",
       "      <td>8.1</td>\n",
       "    </tr>\n",
       "    <tr>\n",
       "      <th>125</th>\n",
       "      <td>The Imitation Game</td>\n",
       "      <td>8.0</td>\n",
       "    </tr>\n",
       "    <tr>\n",
       "      <th>9</th>\n",
       "      <td>Inside Out</td>\n",
       "      <td>8.0</td>\n",
       "    </tr>\n",
       "    <tr>\n",
       "      <th>118</th>\n",
       "      <td>Interstellar</td>\n",
       "      <td>8.0</td>\n",
       "    </tr>\n",
       "    <tr>\n",
       "      <th>34</th>\n",
       "      <td>Room</td>\n",
       "      <td>8.0</td>\n",
       "    </tr>\n",
       "    <tr>\n",
       "      <th>1800</th>\n",
       "      <td>Memento</td>\n",
       "      <td>7.9</td>\n",
       "    </tr>\n",
       "    <tr>\n",
       "      <th>1191</th>\n",
       "      <td>12 Years a Slave</td>\n",
       "      <td>7.9</td>\n",
       "    </tr>\n",
       "    <tr>\n",
       "      <th>872</th>\n",
       "      <td>The Pianist</td>\n",
       "      <td>7.9</td>\n",
       "    </tr>\n",
       "    <tr>\n",
       "      <th>128</th>\n",
       "      <td>Gone Girl</td>\n",
       "      <td>7.9</td>\n",
       "    </tr>\n",
       "    <tr>\n",
       "      <th>119</th>\n",
       "      <td>Guardians of the Galaxy</td>\n",
       "      <td>7.9</td>\n",
       "    </tr>\n",
       "    <tr>\n",
       "      <th>370</th>\n",
       "      <td>Inception</td>\n",
       "      <td>7.9</td>\n",
       "    </tr>\n",
       "    <tr>\n",
       "      <th>1183</th>\n",
       "      <td>The Wolf of Wall Street</td>\n",
       "      <td>7.9</td>\n",
       "    </tr>\n",
       "    <tr>\n",
       "      <th>138</th>\n",
       "      <td>The Grand Budapest Hotel</td>\n",
       "      <td>7.9</td>\n",
       "    </tr>\n",
       "    <tr>\n",
       "      <th>1081</th>\n",
       "      <td>The Lord of the Rings: The Return of the King</td>\n",
       "      <td>7.9</td>\n",
       "    </tr>\n",
       "    <tr>\n",
       "      <th>177</th>\n",
       "      <td>The Fault in Our Stars</td>\n",
       "      <td>7.8</td>\n",
       "    </tr>\n",
       "    <tr>\n",
       "      <th>1205</th>\n",
       "      <td>Prisoners</td>\n",
       "      <td>7.8</td>\n",
       "    </tr>\n",
       "    <tr>\n",
       "      <th>124</th>\n",
       "      <td>Big Hero 6</td>\n",
       "      <td>7.8</td>\n",
       "    </tr>\n",
       "    <tr>\n",
       "      <th>496</th>\n",
       "      <td>The Lord of the Rings: The Fellowship of the Ring</td>\n",
       "      <td>7.8</td>\n",
       "    </tr>\n",
       "    <tr>\n",
       "      <th>28</th>\n",
       "      <td>Spotlight</td>\n",
       "      <td>7.8</td>\n",
       "    </tr>\n",
       "    <tr>\n",
       "      <th>1444</th>\n",
       "      <td>The Prestige</td>\n",
       "      <td>7.8</td>\n",
       "    </tr>\n",
       "    <tr>\n",
       "      <th>1188</th>\n",
       "      <td>Her</td>\n",
       "      <td>7.8</td>\n",
       "    </tr>\n",
       "    <tr>\n",
       "      <th>316</th>\n",
       "      <td>3 Idiots</td>\n",
       "      <td>7.8</td>\n",
       "    </tr>\n",
       "    <tr>\n",
       "      <th>1213</th>\n",
       "      <td>Dallas Buyers Club</td>\n",
       "      <td>7.8</td>\n",
       "    </tr>\n",
       "    <tr>\n",
       "      <th>155</th>\n",
       "      <td>The Theory of Everything</td>\n",
       "      <td>7.8</td>\n",
       "    </tr>\n",
       "    <tr>\n",
       "      <th>863</th>\n",
       "      <td>The Lord of the Rings: The Two Towers</td>\n",
       "      <td>7.8</td>\n",
       "    </tr>\n",
       "    <tr>\n",
       "      <th>1688</th>\n",
       "      <td>There Will Be Blood</td>\n",
       "      <td>7.8</td>\n",
       "    </tr>\n",
       "    <tr>\n",
       "      <th>283</th>\n",
       "      <td>Mr. Nobody</td>\n",
       "      <td>7.8</td>\n",
       "    </tr>\n",
       "    <tr>\n",
       "      <th>1563</th>\n",
       "      <td>Eternal Sunshine of the Spotless Mind</td>\n",
       "      <td>7.8</td>\n",
       "    </tr>\n",
       "  </tbody>\n",
       "</table>\n",
       "</div>"
      ],
      "text/plain": [
       "                                         original_title  vote_average\n",
       "599                                     The Dark Knight           8.1\n",
       "125                                  The Imitation Game           8.0\n",
       "9                                            Inside Out           8.0\n",
       "118                                        Interstellar           8.0\n",
       "34                                                 Room           8.0\n",
       "1800                                            Memento           7.9\n",
       "1191                                   12 Years a Slave           7.9\n",
       "872                                         The Pianist           7.9\n",
       "128                                           Gone Girl           7.9\n",
       "119                             Guardians of the Galaxy           7.9\n",
       "370                                           Inception           7.9\n",
       "1183                            The Wolf of Wall Street           7.9\n",
       "138                            The Grand Budapest Hotel           7.9\n",
       "1081      The Lord of the Rings: The Return of the King           7.9\n",
       "177                              The Fault in Our Stars           7.8\n",
       "1205                                          Prisoners           7.8\n",
       "124                                          Big Hero 6           7.8\n",
       "496   The Lord of the Rings: The Fellowship of the Ring           7.8\n",
       "28                                            Spotlight           7.8\n",
       "1444                                       The Prestige           7.8\n",
       "1188                                                Her           7.8\n",
       "316                                            3 Idiots           7.8\n",
       "1213                                 Dallas Buyers Club           7.8\n",
       "155                            The Theory of Everything           7.8\n",
       "863               The Lord of the Rings: The Two Towers           7.8\n",
       "1688                                There Will Be Blood           7.8\n",
       "283                                          Mr. Nobody           7.8\n",
       "1563              Eternal Sunshine of the Spotless Mind           7.8"
      ]
     },
     "execution_count": 126,
     "metadata": {},
     "output_type": "execute_result"
    }
   ],
   "source": [
    "df26a = pd.read_csv('movie_bd_v5.csv')\n",
    "df26a = df26a.sort_values('vote_average')[['original_title', 'vote_average']]\n",
    "df26a = df26a.sort_values('vote_average', ascending=False)\n",
    "df26a.query('vote_average >= vote_average.quantile(0.99)')"
   ]
  },
  {
   "cell_type": "markdown",
   "metadata": {
    "colab_type": "text",
    "id": "MdXsUXbCVqAV"
   },
   "source": [
    "# 27. Какие актеры чаще всего снимаются в одном фильме вместе?\n"
   ]
  },
  {
   "cell_type": "code",
   "execution_count": 127,
   "metadata": {},
   "outputs": [],
   "source": [
    "answers['27'] = 'Daniel Radcliffe & Rupert Grint' # +"
   ]
  },
  {
   "cell_type": "markdown",
   "metadata": {},
   "source": [
    "Решение:"
   ]
  },
  {
   "cell_type": "code",
   "execution_count": 133,
   "metadata": {},
   "outputs": [
    {
     "data": {
      "text/plain": [
       "[(('Daniel Radcliffe', 'Rupert Grint'), 8),\n",
       " (('Daniel Radcliffe', 'Emma Watson'), 8),\n",
       " (('Rupert Grint', 'Emma Watson'), 7)]"
      ]
     },
     "execution_count": 133,
     "metadata": {},
     "output_type": "execute_result"
    }
   ],
   "source": [
    "'''Для решения задачи понадобятся дополнительные модули:'''\n",
    "import itertools\n",
    "import collections\n",
    "data27 = pd.read_csv('movie_bd_v5.csv')\n",
    "data27['cast'] = data27['cast'].str.split('|') # Разделим актеров.\n",
    "data_p = data27['cast'].reset_index()\n",
    "data_p['pairs'] = data_p['cast'].apply(lambda s: list(itertools.combinations(s, 2)))\n",
    "data_p = data_p.explode('pairs').reset_index()\n",
    "collections.Counter(data_p['pairs']).most_common(3)"
   ]
  },
  {
   "cell_type": "markdown",
   "metadata": {
    "colab_type": "text",
    "id": "U0nONFnGVqAX"
   },
   "source": [
    "# Submission"
   ]
  },
  {
   "cell_type": "code",
   "execution_count": 137,
   "metadata": {
    "colab": {},
    "colab_type": "code",
    "id": "IfcaRO9-VqAX",
    "outputId": "0f132912-32bb-4196-c98c-abfbc4ad5a5f"
   },
   "outputs": [
    {
     "data": {
      "text/plain": [
       "{'1': 'Pirates of the Caribbean: On Stranger Tides (tt1298650)',\n",
       " '2': 'Gods and Generals (tt0279111)',\n",
       " '3': 'Winnie the Pooh (tt1449283)',\n",
       " '5': '107',\n",
       " '6': 'Avatar (tt0499549)',\n",
       " '7': 'The Lone Ranger (tt1210819)',\n",
       " '8': '1478',\n",
       " '9': 'The Dark Knight (tt0468569)',\n",
       " '10': 'The Lone Ranger (tt1210819)',\n",
       " '11': 'Drama',\n",
       " '12': 'Drama',\n",
       " '13': 'Peter Jackson',\n",
       " '14': 'Robert Rodriguez',\n",
       " '15': 'Chris Hemsworth',\n",
       " '16': 'Matt Damon',\n",
       " '17': 'Action',\n",
       " '18': 'K-19: The Widowmaker (tt0267626)',\n",
       " '19': '2015',\n",
       " '20': '2014',\n",
       " '21': 'September',\n",
       " '22': '450',\n",
       " '23': 'Peter Jackson',\n",
       " '24': 'Four By Two Productions',\n",
       " '25': 'Midnight Picture Show',\n",
       " '26': 'Inside Out, The Dark Knight, 12 Years a Slave',\n",
       " '27': 'Daniel Radcliffe & Rupert Grint',\n",
       " '4': '110'}"
      ]
     },
     "execution_count": 137,
     "metadata": {},
     "output_type": "execute_result"
    }
   ],
   "source": [
    "# в конце можно посмотреть свои ответы к каждому вопросу\n",
    "answers"
   ]
  },
  {
   "cell_type": "code",
   "execution_count": 138,
   "metadata": {
    "colab": {},
    "colab_type": "code",
    "id": "SiRmHPl8VqAd"
   },
   "outputs": [
    {
     "data": {
      "text/plain": [
       "27"
      ]
     },
     "execution_count": 138,
     "metadata": {},
     "output_type": "execute_result"
    }
   ],
   "source": [
    "# и убедиться что ни чего не пропустил)\n",
    "len(answers)"
   ]
  },
  {
   "cell_type": "code",
   "execution_count": null,
   "metadata": {},
   "outputs": [],
   "source": []
  }
 ],
 "metadata": {
  "colab": {
   "name": "Copy of [SF-DST] Movies IMBD v4.1 TEMPLATE.ipynb",
   "provenance": []
  },
  "kernelspec": {
   "display_name": "Python 3",
   "language": "python",
   "name": "python3"
  },
  "language_info": {
   "codemirror_mode": {
    "name": "ipython",
    "version": 3
   },
   "file_extension": ".py",
   "mimetype": "text/x-python",
   "name": "python",
   "nbconvert_exporter": "python",
   "pygments_lexer": "ipython3",
   "version": "3.8.3"
  }
 },
 "nbformat": 4,
 "nbformat_minor": 1
}
