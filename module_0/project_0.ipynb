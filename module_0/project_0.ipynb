{
 "cells": [
  {
   "cell_type": "code",
   "execution_count": 1,
   "metadata": {},
   "outputs": [
    {
     "name": "stdout",
     "output_type": "stream",
     "text": [
      "Ваш алгоритм угадывает число в среднем за 6 попыток\n"
     ]
    },
    {
     "data": {
      "text/plain": [
       "6"
      ]
     },
     "execution_count": 1,
     "metadata": {},
     "output_type": "execute_result"
    }
   ],
   "source": [
    "import numpy as np # Вызываем библиотеку numpy для использования случайных чисел.\n",
    "\n",
    "\n",
    "def game_core_v3(number):\n",
    "    '''Применим бинарный поиск. Укажем начало и конец диапазона, в котором будем искать задуманное число.'''\n",
    "    count = 1\n",
    "    predict = np.random.randint(1,101)\n",
    "    left = 0 \n",
    "    right = 100 \n",
    "    \n",
    "    while number != predict: # Используем цикл пока искомое число неравно нашему случайному числу.\n",
    "        count += 1\n",
    "        center = (left+right)//2 # Ищем центр диапазона, чтобы узнать в какой части лежит искомое число.\n",
    "        if number == center: \n",
    "            break\n",
    "        elif number > center:\n",
    "            left = center + 1\n",
    "        else :\n",
    "            right = center - 1\n",
    "    \n",
    "    return(count) # Выход из цикла, если угадали.\n",
    "\n",
    "\n",
    "def score_game(game_core):\n",
    "    '''Запускаем игру 1000 раз, чтобы узнать, как быстро игра угадывает число'''\n",
    "    count_ls = []\n",
    "    np.random.seed(1)  # Фиксируем RANDOM SEED, чтобы ваш эксперимент был воспроизводим!\n",
    "    random_array = np.random.randint(1,101, size=(1000))\n",
    "    \n",
    "    for number in random_array:\n",
    "        count_ls.append(game_core(number))\n",
    "    score = int(np.mean(count_ls))\n",
    "    print(f\"Ваш алгоритм угадывает число в среднем за {score} попыток\")\n",
    "    \n",
    "    return(score)\n",
    "\n",
    "\n",
    "score_game(game_core_v3)"
   ]
  }
 ],
 "metadata": {
  "kernelspec": {
   "display_name": "Python 3",
   "language": "python",
   "name": "python3"
  },
  "language_info": {
   "codemirror_mode": {
    "name": "ipython",
    "version": 3
   },
   "file_extension": ".py",
   "mimetype": "text/x-python",
   "name": "python",
   "nbconvert_exporter": "python",
   "pygments_lexer": "ipython3",
   "version": "3.8.3"
  }
 },
 "nbformat": 4,
 "nbformat_minor": 4
}
